{
 "cells": [
  {
   "cell_type": "markdown",
   "metadata": {
    "slideshow": {
     "slide_type": "slide"
    }
   },
   "source": [
    "# Data Management (Spring/Summer 2018) at OSIPP, Osaka U\n",
    "By Shuhei Kitamura\n",
    "\n",
    "## R basics"
   ]
  },
  {
   "cell_type": "markdown",
   "metadata": {
    "slideshow": {
     "slide_type": "notes"
    }
   },
   "source": [
    "### Outline\n",
    "1. Arithmetic operation\n",
    "2. Run R scripts\n",
    "3. Variables\n",
    "    - Variable assignment\n",
    "    - Classes\n",
    "    - Concatenation\n",
    "    - Vectors\n",
    "    - Matrices\n",
    "    - Factors\n",
    "    - Data frames\n",
    "        - Get elements\n",
    "        - Change contents\n",
    "        - Computation\n",
    "        - Treat missing values\n",
    "        - Merge\n",
    "    - Lists\n",
    "7. Functions and Libraries\n",
    "8. If Statements\n",
    "9. Loops"
   ]
  },
  {
   "cell_type": "markdown",
   "metadata": {
    "slideshow": {
     "slide_type": "subslide"
    }
   },
   "source": [
    "## 1. Arithmetic operation\n",
    "- Main operators are `+`, `-`, `*`, and `/`.\n",
    "- Write `1 + 2` and execute (Shift + Enter or push \"run cell\" button). Next, do the same for `print(1 + 2)`."
   ]
  },
  {
   "cell_type": "code",
   "execution_count": 1,
   "metadata": {
    "slideshow": {
     "slide_type": "-"
    }
   },
   "outputs": [
    {
     "name": "stdout",
     "output_type": "stream",
     "text": [
      "[1] 3\n"
     ]
    }
   ],
   "source": [
    "print(1 + 2)"
   ]
  },
  {
   "cell_type": "markdown",
   "metadata": {
    "slideshow": {
     "slide_type": "subslide"
    }
   },
   "source": [
    "- If you want to write a comment, use #. Write `# print(1 + 2)` and execute."
   ]
  },
  {
   "cell_type": "code",
   "execution_count": 4,
   "metadata": {
    "slideshow": {
     "slide_type": "-"
    }
   },
   "outputs": [
    {
     "name": "stdout",
     "output_type": "stream",
     "text": [
      "[1] 3\n"
     ]
    }
   ],
   "source": [
    "print(1+2)# print sum of 1+2"
   ]
  },
  {
   "cell_type": "markdown",
   "metadata": {
    "slideshow": {
     "slide_type": "subslide"
    }
   },
   "source": [
    "- Play with `+`, `-`, `*`, and `/`."
   ]
  },
  {
   "cell_type": "code",
   "execution_count": 5,
   "metadata": {
    "slideshow": {
     "slide_type": "-"
    }
   },
   "outputs": [
    {
     "data": {
      "text/html": [
       "0.6"
      ],
      "text/latex": [
       "0.6"
      ],
      "text/markdown": [
       "0.6"
      ],
      "text/plain": [
       "[1] 0.6"
      ]
     },
     "metadata": {},
     "output_type": "display_data"
    }
   ],
   "source": [
    "1+2-3*4/5"
   ]
  },
  {
   "cell_type": "markdown",
   "metadata": {
    "slideshow": {
     "slide_type": "subslide"
    }
   },
   "source": [
    "- `^` or `**` for power. Power is right associative (= `**` in Python). How do you calculate $-2^3$, $3^{3^3}$, and $\\frac{3}{3^3}$?\n",
    "- Note: `^` does not calculate power in Python."
   ]
  },
  {
   "cell_type": "code",
   "execution_count": 11,
   "metadata": {
    "slideshow": {
     "slide_type": "-"
    }
   },
   "outputs": [
    {
     "data": {
      "text/html": [
       "64"
      ],
      "text/latex": [
       "64"
      ],
      "text/markdown": [
       "64"
      ],
      "text/plain": [
       "[1] 64"
      ]
     },
     "metadata": {},
     "output_type": "display_data"
    },
    {
     "data": {
      "text/html": [
       "16"
      ],
      "text/latex": [
       "16"
      ],
      "text/markdown": [
       "16"
      ],
      "text/plain": [
       "[1] 16"
      ]
     },
     "metadata": {},
     "output_type": "display_data"
    }
   ],
   "source": [
    "4^3\n",
    "2^2^2"
   ]
  },
  {
   "cell_type": "markdown",
   "metadata": {
    "slideshow": {
     "slide_type": "subslide"
    }
   },
   "source": [
    "- `%%` for modulus and `%/%` for floor division. What is the outcome of `7 %% 2`? How about `7 %/% 2`?\n",
    "    - `%` (modulus in Python) and `//` (floor division in Python) do not work in R.\n",
    "    - Similarly, these R operators do not work in Python."
   ]
  },
  {
   "cell_type": "code",
   "execution_count": 7,
   "metadata": {
    "slideshow": {
     "slide_type": "-"
    }
   },
   "outputs": [
    {
     "data": {
      "text/html": [
       "1"
      ],
      "text/latex": [
       "1"
      ],
      "text/markdown": [
       "1"
      ],
      "text/plain": [
       "[1] 1"
      ]
     },
     "metadata": {},
     "output_type": "display_data"
    }
   ],
   "source": [
    "7 %%6"
   ]
  },
  {
   "cell_type": "markdown",
   "metadata": {
    "slideshow": {
     "slide_type": "slide"
    }
   },
   "source": [
    "## 2. Run R scripts\n",
    "<!--\n",
    " - Launch a text editor (e.g. Visual Studio Code). Create a new file.\n",
    " - Type `print(1 + 2)` in line 1, and `print(\"Hello world!\")` in line 2.\n",
    " - Save the file in the local repo. Type \"myR\" in the file name, and set R for the file type. The file extension becomes \".r\".\n",
    "-->\n",
    "\n",
    "- Suppose that you already have an R file \"myR.R\" in your local repository.\n",
    "- Set the current directory by typing: `setwd(\"C:/path_to_your_local_repo)\"` where you need to specify the path to your local repository. \n",
    "    - You will get an error message if you use a backslash instead of a slash."
   ]
  },
  {
   "cell_type": "code",
   "execution_count": 13,
   "metadata": {
    "slideshow": {
     "slide_type": "-"
    }
   },
   "outputs": [],
   "source": [
    "setwd(\"C:/Users/T-Reio/D_M\")"
   ]
  },
  {
   "cell_type": "markdown",
   "metadata": {
    "slideshow": {
     "slide_type": "subslide"
    }
   },
   "source": [
    "- Run the R script by typing: `source(\"myR.R\")`."
   ]
  },
  {
   "cell_type": "code",
   "execution_count": 15,
   "metadata": {
    "slideshow": {
     "slide_type": "-"
    }
   },
   "outputs": [
    {
     "name": "stdout",
     "output_type": "stream",
     "text": [
      "[1] 3\n",
      "[1] \"R Studio is more useful than you!\"\n"
     ]
    }
   ],
   "source": [
    "source(\"SCRIPT.R\")"
   ]
  },
  {
   "cell_type": "markdown",
   "metadata": {
    "slideshow": {
     "slide_type": "subslide"
    }
   },
   "source": [
    "- Let's push the new file to your remote repository. Start a Git GUI (e.g. SoureTree).\n",
    "- Stage \"myR.R\". Then press Commit.\n",
    "- Write a commit message (e.g. \"Create myR.R.\").\n",
    "- Commit and push.\n",
    "- Check the remote repository."
   ]
  },
  {
   "cell_type": "markdown",
   "metadata": {
    "slideshow": {
     "slide_type": "subslide"
    }
   },
   "source": [
    "## 3. Variables\n",
    "- You can assign an object to a variable. An object in R is data, which does not contain any method."
   ]
  },
  {
   "cell_type": "markdown",
   "metadata": {
    "slideshow": {
     "slide_type": "subslide"
    }
   },
   "source": [
    "#### - Variable assignment\n",
    "\n",
    "- You use `<-` or `->` in R instead of `=` in Python. (You can also use `=` in R, but uncommon.)\n",
    "```python\n",
    "myvar <- \"Hello world!\"\n",
    "print(myvar)\n",
    "```\n",
    "is equivalent to:\n",
    "```python\n",
    "print(\"Hello world!\")\n",
    "```\n",
    "- In Jupyter Notebook, you can use `Alt & -` to insert `<-` and spaces. (See Keyboard Shortcuts in the Help tab above.)\n",
    "- You can also use `( <- )` to assign and print at once."
   ]
  },
  {
   "cell_type": "code",
   "execution_count": 18,
   "metadata": {
    "slideshow": {
     "slide_type": "subslide"
    }
   },
   "outputs": [
    {
     "name": "stdout",
     "output_type": "stream",
     "text": [
      "[1] \"Hello world!\"\n",
      "[1] \"Hello world!\"\n"
     ]
    },
    {
     "data": {
      "text/html": [
       "'Hello world!'"
      ],
      "text/latex": [
       "'Hello world!'"
      ],
      "text/markdown": [
       "'Hello world!'"
      ],
      "text/plain": [
       "[1] \"Hello world!\""
      ]
     },
     "metadata": {},
     "output_type": "display_data"
    }
   ],
   "source": [
    "myvar <- \"Hello world!\"\n",
    "print(myvar)\n",
    "\"Hello world!\" -> myvar\n",
    "print(myvar)\n",
    "\n",
    "myvar = \"Hello world!\"\n",
    "\n",
    "(myvar <- \"Hello world!\")"
   ]
  },
  {
   "cell_type": "markdown",
   "metadata": {
    "slideshow": {
     "slide_type": "subslide"
    }
   },
   "source": [
    "#### - Classes\n",
    "- Types in Python are called classes in R. They are: numerics, integers, characters, logical, matrices, arrays, etc.\n",
    "- For logical you should write `TRUE` or `FALSE`, not `True` or `False` as in Python.\n",
    "- R is also case sensitive!\n",
    "- You use `class()` to check the class of data. (`type()` in Python.)\n",
    "    - Alternatively, you can check the class using `is.numeric()`, `is.integer()`, `is.character()`, and `is.logical()`."
   ]
  },
  {
   "cell_type": "code",
   "execution_count": 19,
   "metadata": {
    "slideshow": {
     "slide_type": "subslide"
    }
   },
   "outputs": [
    {
     "name": "stdout",
     "output_type": "stream",
     "text": [
      "[1] 1\n",
      "[1] \"numeric\"\n",
      "[1] 1\n",
      "[1] \"numeric\"\n",
      "[1] 1.5\n",
      "[1] \"numeric\"\n",
      "[1] \"character\"\n",
      "[1] \"logical\"\n",
      "[1] FALSE\n"
     ]
    }
   ],
   "source": [
    "mynum1 <- 1 # this is not an integer!\n",
    "mynum2 <- 1.0 # .0 is not printed.\n",
    "mynum3 <- 1.5\n",
    "mychar <- \"Hello\"\n",
    "mylogic <- TRUE\n",
    "\n",
    "print(mynum1)\n",
    "print(class(mynum1))\n",
    "print(mynum2)\n",
    "print(class(mynum2))\n",
    "print(mynum3)\n",
    "print(class(mynum3))\n",
    "print(class(mychar))\n",
    "print(class(mylogic))\n",
    "print(is.integer(mynum1))"
   ]
  },
  {
   "cell_type": "markdown",
   "metadata": {
    "slideshow": {
     "slide_type": "subslide"
    }
   },
   "source": [
    " <- - How you write an integer in R is different from how you do it in Python. You need to put `L` after a value."
   ]
  },
  {
   "cell_type": "code",
   "execution_count": 20,
   "metadata": {
    "slideshow": {
     "slide_type": "-"
    }
   },
   "outputs": [
    {
     "name": "stdout",
     "output_type": "stream",
     "text": [
      "[1] \"integer\"\n",
      "[1] \"numeric\"\n"
     ]
    }
   ],
   "source": [
    "myint <- 1L\n",
    "mynum <- 1\n",
    "print(class(myint))\n",
    "print(class(mynum))"
   ]
  },
  {
   "cell_type": "markdown",
   "metadata": {
    "slideshow": {
     "slide_type": "subslide"
    }
   },
   "source": [
    "- Logical is the same as booleans in Python."
   ]
  },
  {
   "cell_type": "code",
   "execution_count": 21,
   "metadata": {
    "slideshow": {
     "slide_type": "-"
    }
   },
   "outputs": [
    {
     "name": "stdout",
     "output_type": "stream",
     "text": [
      "[1] TRUE\n",
      "[1] \"logical\"\n"
     ]
    }
   ],
   "source": [
    "print(1 + 2 == 3)\n",
    "print(class(1 + 2 == 3))"
   ]
  },
  {
   "cell_type": "markdown",
   "metadata": {
    "slideshow": {
     "slide_type": "subslide"
    }
   },
   "source": [
    "- If a string includes a quote (e.g. `\"This is a \"quote\"\"`), it returns an error. Use `'This is a \"quote\"'` instead."
   ]
  },
  {
   "cell_type": "code",
   "execution_count": 26,
   "metadata": {
    "slideshow": {
     "slide_type": "-"
    }
   },
   "outputs": [
    {
     "name": "stdout",
     "output_type": "stream",
     "text": [
      "[1] \"This is a \\\"quote\\\".\"\n"
     ]
    }
   ],
   "source": [
    "# print(\"This is a \"quote\".\")　# This returns an error.\n",
    "print('This is a \"quote\".')"
   ]
  },
  {
   "cell_type": "markdown",
   "metadata": {
    "slideshow": {
     "slide_type": "subslide"
    }
   },
   "source": [
    "- To change classes, you can use `as.numeric()`, `as.integer()`, `as.character()`, and `as.logical()`."
   ]
  },
  {
   "cell_type": "code",
   "execution_count": 27,
   "metadata": {
    "slideshow": {
     "slide_type": "-"
    }
   },
   "outputs": [
    {
     "name": "stdout",
     "output_type": "stream",
     "text": [
      "[1] \"1\"\n",
      "[1] 1\n"
     ]
    }
   ],
   "source": [
    "mynum <- 1\n",
    "print(as.character(mynum))\n",
    "mynum <- 1\n",
    "print(as.integer(mynum))"
   ]
  },
  {
   "cell_type": "markdown",
   "metadata": {
    "slideshow": {
     "slide_type": "subslide"
    }
   },
   "source": [
    "- `FALSE` is `0` and `0` is `FALSE`. `TRUE` is `1` and `1` is `TRUE`.\n",
    "    - The other numerics and integers are also `TRUE`. \n",
    "- Characters cannot be converted as logical. (Recall that strings are `True` in Python.)"
   ]
  },
  {
   "cell_type": "code",
   "execution_count": 28,
   "metadata": {
    "slideshow": {
     "slide_type": "subslide"
    }
   },
   "outputs": [
    {
     "name": "stdout",
     "output_type": "stream",
     "text": [
      "[1] 0\n",
      "[1] FALSE\n",
      "[1] 1\n",
      "[1] TRUE\n"
     ]
    },
    {
     "ename": "ERROR",
     "evalue": "Error in as.logial(\"Hello!\"):  関数 \"as.logial\" を見つけることができませんでした \n",
     "output_type": "error",
     "traceback": [
      "Error in as.logial(\"Hello!\"):  関数 \"as.logial\" を見つけることができませんでした \nTraceback:\n",
      "1. print(as.logial(\"Hello!\"))"
     ]
    }
   ],
   "source": [
    "print(as.numeric(FALSE))\n",
    "print(as.logical(0))\n",
    "print(as.numeric(TRUE))\n",
    "print(as.logical(1))\n",
    "print(as.logial(\"Hello!\")) # This returns an error."
   ]
  },
  {
   "cell_type": "markdown",
   "metadata": {
    "slideshow": {
     "slide_type": "subslide"
    }
   },
   "source": [
    "- The class of `NULL` is NULL (like `None` in Python, whose type is `NoneType`).\n",
    "- `NaN` (Not a Number) is numeric, and `NA` (Not Available) is logical.\n",
    "    - Python (pandas) only has `NaN`, which is a missing value."
   ]
  },
  {
   "cell_type": "code",
   "execution_count": 29,
   "metadata": {},
   "outputs": [
    {
     "name": "stdout",
     "output_type": "stream",
     "text": [
      "[1] \"NULL\"\n",
      "[1] \"numeric\"\n",
      "[1] \"logical\"\n",
      "[1] NA\n",
      "[1] NA\n"
     ]
    }
   ],
   "source": [
    "print(class(NULL))\n",
    "print(class(NaN))\n",
    "print(class(NA))\n",
    "print(as.logical(NaN)) # you can convert NaN to logical\n",
    "print(as.numeric(NA)) # but you cannot convert NA to numeric..."
   ]
  },
  {
   "cell_type": "markdown",
   "metadata": {
    "slideshow": {
     "slide_type": "subslide"
    }
   },
   "source": [
    "#### - Concatenation\n",
    "- While in Python you could write `\"Hello\" + \" World!\"` for concatenating strings, you cannot use `+` in the similar way in R.\n",
    "- Instead, you need to use `paste()`. With `paste`, you can also concatenate characters with other classes.\n",
    "- Similarly, you cannot use `*` as `\"Hello\" * 2` in R either."
   ]
  },
  {
   "cell_type": "code",
   "execution_count": 30,
   "metadata": {
    "slideshow": {
     "slide_type": "-"
    }
   },
   "outputs": [
    {
     "data": {
      "text/html": [
       "'Hello World!'"
      ],
      "text/latex": [
       "'Hello World!'"
      ],
      "text/markdown": [
       "'Hello World!'"
      ],
      "text/plain": [
       "[1] \"Hello World!\""
      ]
     },
     "metadata": {},
     "output_type": "display_data"
    },
    {
     "name": "stdout",
     "output_type": "stream",
     "text": [
      "[1] \"I have 100 USD in my account.\"\n"
     ]
    }
   ],
   "source": [
    "# print(\"Hello\" + \"World!\") # This returns an error.\n",
    "myvar1 <- \"Hello\"\n",
    "myvar2 <- \" World!\"\n",
    "paste(myvar1, myvar2, sep = \"\")\n",
    "\n",
    "savings = 100\n",
    "print(paste(\"I have \", savings, \" USD in my account.\", sep = \"\"))"
   ]
  },
  {
   "cell_type": "markdown",
   "metadata": {
    "slideshow": {
     "slide_type": "subslide"
    }
   },
   "source": [
    "#### - Vectors\n",
    "- The vector is one dimensional array (like `array` in NumPy). `c()` is used for vectors.\n",
    "- The vector is not a distinguished class, but `numeric`, `character`, `logical`, etc. are the classes of vectors.\n",
    "- Vectors can contain any classes (like `array` in NumPy).\n",
    "- You can also use `c()` in `print()` to show multiple outputs at once (like `print( , )` in Python)."
   ]
  },
  {
   "cell_type": "code",
   "execution_count": 32,
   "metadata": {
    "slideshow": {
     "slide_type": "-"
    }
   },
   "outputs": [
    {
     "name": "stdout",
     "output_type": "stream",
     "text": [
      "[1] \"a\"    \"1\"    \"TRUE\"\n",
      "[1] 1 2 3 4\n"
     ]
    }
   ],
   "source": [
    "myvec <- c(\"a\", 1, TRUE)\n",
    "print(myvec)\n",
    "myvec1 <- c(1,2)\n",
    "myvec2 <- c(3,4)\n",
    "print(c(myvec1, myvec2))"
   ]
  },
  {
   "cell_type": "markdown",
   "metadata": {
    "slideshow": {
     "slide_type": "subslide"
    }
   },
   "source": [
    "- Some useful ways to make a vector.\n",
    "    - `:` to make a vector of numerics or integers.\n",
    "    - `numeric()` to make a vector of zeros (as numeric).\n",
    "        - `integer()` to make a vector of zeros (as integer).\n",
    "    - `seq()` to make a vector of numerics or integers.\n",
    "    - `rep()` to make a vector. Most classes can be used."
   ]
  },
  {
   "cell_type": "code",
   "execution_count": 33,
   "metadata": {
    "slideshow": {
     "slide_type": "subslide"
    }
   },
   "outputs": [
    {
     "name": "stdout",
     "output_type": "stream",
     "text": [
      "[1] -1  0  1  2  3  4\n",
      "[1] 0 0 0 0 0\n",
      "[1] 1 2 3 4\n",
      "[1] \"Hello\" \"Hello\" \"Hello\" \"Hello\"\n"
     ]
    }
   ],
   "source": [
    "myvec1 <- -1:4\n",
    "print(myvec1)\n",
    "print(numeric(5))\n",
    "print(seq(1,4,by=1)) \n",
    "print(rep(\"Hello\",4)) \n",
    "#mylist <- list(var1 = 1:10, var2 = \"Hello\")\n",
    "#print(rep(mylist, 5)) "
   ]
  },
  {
   "cell_type": "markdown",
   "metadata": {
    "slideshow": {
     "slide_type": "subslide"
    }
   },
   "source": [
    "- To get a length of a vector, use `length()`."
   ]
  },
  {
   "cell_type": "code",
   "execution_count": 34,
   "metadata": {
    "slideshow": {
     "slide_type": "-"
    }
   },
   "outputs": [
    {
     "name": "stdout",
     "output_type": "stream",
     "text": [
      "[1] 10\n"
     ]
    }
   ],
   "source": [
    "myvec <- 1:10\n",
    "print(length(myvec))"
   ]
  },
  {
   "cell_type": "markdown",
   "metadata": {
    "slideshow": {
     "slide_type": "subslide"
    }
   },
   "source": [
    "- The class of a vector depends on its elements. If a vector contains multiple classes, the highest one is chosen.\n",
    "    - Classes are ordered: character > complex > numeric > logical > NULL.\n",
    "- The class of an empty vector is `NULL`."
   ]
  },
  {
   "cell_type": "code",
   "execution_count": 35,
   "metadata": {
    "slideshow": {
     "slide_type": "-"
    }
   },
   "outputs": [
    {
     "name": "stdout",
     "output_type": "stream",
     "text": [
      "[1] \"numeric\"\n",
      "[1] \"1\"     \"Hello\" \"TRUE\" \n",
      "[1] \"character\"\n",
      "[1] \"numeric\"\n",
      "[1] \"NULL\"\n"
     ]
    }
   ],
   "source": [
    "myvec1 <- c(1,2)\n",
    "print(class(myvec1))\n",
    "myvec2 <- c(1,\"Hello\",TRUE)\n",
    "print(myvec2)\n",
    "print(class(myvec2))\n",
    "myvec3 <- c(1,TRUE)\n",
    "print(class(myvec3))\n",
    "print(class(c())) # an empty vector"
   ]
  },
  {
   "cell_type": "markdown",
   "metadata": {
    "slideshow": {
     "slide_type": "subslide"
    }
   },
   "source": [
    "- You can assign (column) names to a vector using `names()`."
   ]
  },
  {
   "cell_type": "code",
   "execution_count": 36,
   "metadata": {
    "slideshow": {
     "slide_type": "-"
    }
   },
   "outputs": [
    {
     "name": "stdout",
     "output_type": "stream",
     "text": [
      "[1]  1 10\n",
      " Monday Tuesday \n",
      "      1      10 \n"
     ]
    }
   ],
   "source": [
    "myvec <- c(1,10)\n",
    "print(myvec)\n",
    "names(myvec) <- c(\"Monday\",\"Tuesday\")\n",
    "print(myvec)"
   ]
  },
  {
   "cell_type": "markdown",
   "metadata": {
    "slideshow": {
     "slide_type": "subslide"
    }
   },
   "source": [
    "- To subset a vector, use `[]` as in Python. However, the index in R starts from one, not zero!\n",
    "- You can also use vectors, names, and relational operators for subsetting a vector."
   ]
  },
  {
   "cell_type": "code",
   "execution_count": 37,
   "metadata": {
    "slideshow": {
     "slide_type": "-"
    }
   },
   "outputs": [
    {
     "name": "stdout",
     "output_type": "stream",
     "text": [
      "col1 col2 col3 col4 \n",
      "   1   10  100 1000 \n",
      "col2 \n",
      "  10 \n",
      "col2 col3 \n",
      "  10  100 \n",
      "col1 col4 \n",
      "   1 1000 \n",
      "col3 col4 \n",
      " 100 1000 \n",
      "col4 \n",
      "1000 \n"
     ]
    }
   ],
   "source": [
    "myvec <- c(1,10,100,1000)\n",
    "names(myvec) <- c(\"col1\",\"col2\",\"col3\",\"col4\") # assign column names\n",
    "print(myvec)\n",
    "print(myvec[2])\n",
    "print(myvec[c(2,3)])\n",
    "print(myvec[c(-2,-3)])\n",
    "print(myvec[c(\"col3\",\"col4\")])\n",
    "print(myvec[myvec > 100])"
   ]
  },
  {
   "cell_type": "markdown",
   "metadata": {
    "slideshow": {
     "slide_type": "subslide"
    }
   },
   "source": [
    "- Other useful operators are: `is.na()`, `is.null()`, `is.nan()`, and `is.infinite()`.\n",
    "    - For example, you can substite NA with a value such as zero using `is.na()`."
   ]
  },
  {
   "cell_type": "code",
   "execution_count": 38,
   "metadata": {
    "slideshow": {
     "slide_type": "-"
    }
   },
   "outputs": [
    {
     "name": "stdout",
     "output_type": "stream",
     "text": [
      "[1]  10 100 Inf\n",
      "[1]  NA  10 100\n",
      "[1]  10 100\n",
      "[1]  NA  10 100 Inf\n",
      "[1]   0  10 100 Inf\n"
     ]
    }
   ],
   "source": [
    "myvec <- c(NA,10,100,Inf)\n",
    "print(myvec[!is.na(myvec)]) # exclude NA\n",
    "print(myvec[!is.infinite(myvec)]) # exclude infinity\n",
    "print(myvec[!is.na(myvec) & !is.infinite(myvec)]) # exclude NA and infinity\n",
    "\n",
    "## replace NA with 0\n",
    "print(myvec)\n",
    "myvec[is.na(myvec)] <- 0\n",
    "print(myvec)"
   ]
  },
  {
   "cell_type": "markdown",
   "metadata": {
    "slideshow": {
     "slide_type": "subslide"
    }
   },
   "source": [
    "- To slice a vector, use `[:]`.\n",
    "    - You cannot write like `[0:]` without writing the end.\n",
    "    - The minus sign means exclusion, not the index from right (unlike Python)."
   ]
  },
  {
   "cell_type": "code",
   "execution_count": 39,
   "metadata": {
    "slideshow": {
     "slide_type": "-"
    }
   },
   "outputs": [
    {
     "name": "stdout",
     "output_type": "stream",
     "text": [
      "[1]  1 10\n",
      "[1]    1 1000\n"
     ]
    }
   ],
   "source": [
    "myvec <- c(1,10,100,1000)\n",
    "print(myvec[1:2])\n",
    "print(myvec[-2:-3])"
   ]
  },
  {
   "cell_type": "markdown",
   "metadata": {
    "slideshow": {
     "slide_type": "subslide"
    }
   },
   "source": [
    "- Vectors can be used for calculation.\n",
    "    - `sum()` to compute the sum for each index, which is similar to `+` for the Numpy array.\n",
    "    - `mean()` to compute the mean for each index."
   ]
  },
  {
   "cell_type": "code",
   "execution_count": 41,
   "metadata": {
    "slideshow": {
     "slide_type": "-"
    }
   },
   "outputs": [
    {
     "name": "stdout",
     "output_type": "stream",
     "text": [
      "[1] 1 5\n",
      "[1] 0.5 2.5\n",
      "[1] 2 4\n",
      "[1] 0 3\n"
     ]
    }
   ],
   "source": [
    "x <- c(0,1)\n",
    "y <- c(2,3)\n",
    "print(c(sum(x), sum(y)))\n",
    "print(c(mean(x), mean(y)))\n",
    "print(x + y)\n",
    "print(x * y)"
   ]
  },
  {
   "cell_type": "markdown",
   "metadata": {
    "slideshow": {
     "slide_type": "subslide"
    }
   },
   "source": [
    "#### - Matrices\n",
    "- The matrix is one of the classes.\n",
    "- The matrix is a two dimensional array (like `ndarray` in NumPy). You can specify the number of columns and rows, and the order of filling in the matrix."
   ]
  },
  {
   "cell_type": "code",
   "execution_count": 42,
   "metadata": {
    "slideshow": {
     "slide_type": "-"
    }
   },
   "outputs": [
    {
     "name": "stdout",
     "output_type": "stream",
     "text": [
      "     [,1] [,2]\n",
      "[1,]    1    3\n",
      "[2,]    2    4\n",
      "[1] \"matrix\"\n",
      "     [,1] [,2]\n",
      "[1,]    1    2\n",
      "[2,]    3    4\n",
      "     [,1] [,2] [,3]\n",
      "[1,]    1    2    3\n",
      "[2,]    4    5    6\n",
      "[3,]    7    8    9\n"
     ]
    }
   ],
   "source": [
    "mymat1 <- matrix(c(1,2,3,4),nrow=2,ncol=2) # using a vector, create a 2 by 2 matrix\n",
    "print(mymat1)\n",
    "print(class(mymat1))\n",
    "mymat1 <- matrix(c(1,2,3,4),byrow=TRUE,nrow=2,ncol=2) # the same is above, but the matrix is filled by row\n",
    "print(mymat1)\n",
    "mymat3 <- matrix(1:9,byrow=TRUE,nrow=3)\n",
    "print(mymat3)"
   ]
  },
  {
   "cell_type": "markdown",
   "metadata": {
    "slideshow": {
     "slide_type": "subslide"
    }
   },
   "source": [
    "- Alternatively, you can apply `cbind()` and `rbind()` to make a matrix."
   ]
  },
  {
   "cell_type": "code",
   "execution_count": 43,
   "metadata": {
    "slideshow": {
     "slide_type": "-"
    }
   },
   "outputs": [
    {
     "name": "stdout",
     "output_type": "stream",
     "text": [
      "     t_avg c_avg\n",
      "[1,]    60    62\n",
      "[2,]   170   175\n",
      "[1] \"matrix\"\n",
      "      [,1] [,2]\n",
      "t_avg   60  170\n",
      "c_avg   62  175\n"
     ]
    }
   ],
   "source": [
    "t_avg <- c(60,170)\n",
    "c_avg <- c(62,175)\n",
    "mymat1 <- cbind(t_avg,c_avg)\n",
    "print(mymat1)\n",
    "print(class(mymat1))\n",
    "mymat2 <- rbind(t_avg,c_avg)\n",
    "print(mymat2)"
   ]
  },
  {
   "cell_type": "markdown",
   "metadata": {
    "slideshow": {
     "slide_type": "subslide"
    }
   },
   "source": [
    "- The matrix can store only one class. If there are multiple classes, the highest one is chosen.\n",
    "    - Recall that classes are ordered: character > complex > numeric > logical > NULL. \n",
    "- But the class of the matrix is still matrix (unlike the vector)"
   ]
  },
  {
   "cell_type": "code",
   "execution_count": 44,
   "metadata": {
    "slideshow": {
     "slide_type": "-"
    }
   },
   "outputs": [
    {
     "name": "stdout",
     "output_type": "stream",
     "text": [
      "     x   y  \n",
      "[1,] \"a\" \"2\"\n",
      "[2,] \"b\" \"3\"\n",
      "[1] \"character\"\n",
      "[1] \"matrix\"\n"
     ]
    }
   ],
   "source": [
    "x <- c(\"a\",\"b\")\n",
    "y <- c(2,3)\n",
    "mymat <- cbind(x,y) # character > numeric\n",
    "print(mymat)\n",
    "print(class(mymat[2,2])) # the class of an element in the matrix\n",
    "print(class(mymat)) # the class of the matrix"
   ]
  },
  {
   "cell_type": "markdown",
   "metadata": {
    "slideshow": {
     "slide_type": "subslide"
    }
   },
   "source": [
    "- Use `colnames()` and `rownames()` to add names for columns and rows, respectively."
   ]
  },
  {
   "cell_type": "code",
   "execution_count": 45,
   "metadata": {
    "slideshow": {
     "slide_type": "-"
    }
   },
   "outputs": [
    {
     "name": "stdout",
     "output_type": "stream",
     "text": [
      "       Treatment Control\n",
      "Weight        60      62\n",
      "Height       170     175\n"
     ]
    }
   ],
   "source": [
    "t_avg <- c(60,170)\n",
    "c_avg <- c(62,175)\n",
    "cpop <- cbind(t_avg,c_avg)\n",
    "rownames(cpop) <- c(\"Weight\",\"Height\")\n",
    "colnames(cpop) <- c(\"Treatment\",\"Control\")\n",
    "print(cpop)"
   ]
  },
  {
   "cell_type": "markdown",
   "metadata": {
    "slideshow": {
     "slide_type": "subslide"
    }
   },
   "source": [
    "- `colSums()` and `rowSums()` for calculating sums for each column and row, respectively.\n",
    "    - Instead, `sum()` compute sums for a specific column or row or the sum of all elements in a matrix.\n",
    "- `colMeans()` and `rowMeans()` for calculating means for each column and row, respectively.\n",
    "    - Instead, `mean()` compute means for a specific column, but not a row."
   ]
  },
  {
   "cell_type": "code",
   "execution_count": 46,
   "metadata": {
    "slideshow": {
     "slide_type": "subslide"
    }
   },
   "outputs": [
    {
     "name": "stdout",
     "output_type": "stream",
     "text": [
      "       Treatment Control\n",
      "Weight        60      62\n",
      "Height       170     175\n",
      "Treatment   Control    Weight    Height \n",
      "      230       237       122       345 \n",
      "[1] 467\n",
      "Treatment   Control    Weight    Height \n",
      "    115.0     118.5      61.0     172.5 \n"
     ]
    }
   ],
   "source": [
    "t_avg <- c(60,170)\n",
    "c_avg <- c(62,175)\n",
    "cpop <- cbind(t_avg,c_avg)\n",
    "rownames(cpop) <- c(\"Weight\",\"Height\")\n",
    "colnames(cpop) <- c(\"Treatment\",\"Control\")\n",
    "print(cpop)\n",
    "print(c(colSums(cpop),rowSums(cpop)))\n",
    "print(sum(cpop))\n",
    "print(c(colMeans(cpop),rowMeans(cpop)))"
   ]
  },
  {
   "cell_type": "markdown",
   "metadata": {
    "slideshow": {
     "slide_type": "subslide"
    }
   },
   "source": [
    "- To subset a matrix, you often use `[row numbers, column numbers]`.\n",
    "- You can also combine `:`, vectors, names, and relational operators."
   ]
  },
  {
   "cell_type": "code",
   "execution_count": 47,
   "metadata": {
    "slideshow": {
     "slide_type": "subslide"
    }
   },
   "outputs": [
    {
     "name": "stdout",
     "output_type": "stream",
     "text": [
      "       Treatment Control  Mean\n",
      "Weight        60      62  61.0\n",
      "Height       170     175 172.5\n",
      "Obs.          50     100    NA\n",
      "[1] 60\n",
      "Treatment   Control \n",
      "       60        62 \n",
      "Control    Mean \n",
      "     62      61 \n",
      "[1] 60\n",
      "Treatment   Control      Mean \n",
      "       60        62        61 \n",
      "[1] 60 50 62 61 NA\n"
     ]
    }
   ],
   "source": [
    "x <- c(60,170,50)\n",
    "y <- c(62,175,100)\n",
    "z <- c(61.0,172.5,NA)\n",
    "dims <- list(c(\"Weight\",\"Height\",\"Obs.\"),c(\"Treatment\",\"Control\",\"Mean\"))\n",
    "cpop <- matrix(c(x,y,z),ncol=3,dimnames=dims) # you can add column and row names at once\n",
    "print(cpop)\n",
    "\n",
    "print(cpop[1,1]) # first row, first column\n",
    "print(cpop[1,1:2]) # first two columns in the first row\n",
    "print(cpop[1,c(2,3)]) # second and third column in the first row\n",
    "print(cpop[1,\"Treatment\"]) # \"Treatment\" column in the first row\n",
    "print(cpop[1,]) # all elements in the first row\n",
    "\n",
    "print(cpop[cpop < 100]) # all elements less than 100\n",
    "\n",
    "# These are rarely used.\n",
    "# print(cpop[3]) # the third element\n",
    "# print(cpop[c(2, 3)]) # the second and the third element"
   ]
  },
  {
   "cell_type": "markdown",
   "metadata": {
    "slideshow": {
     "slide_type": "subslide"
    }
   },
   "source": [
    "- Matrix calculation allows `+`, `-`, `*`, and `/`. The calculation applies to all elements in the matrix."
   ]
  },
  {
   "cell_type": "code",
   "execution_count": 48,
   "metadata": {
    "slideshow": {
     "slide_type": "-"
    }
   },
   "outputs": [
    {
     "name": "stdout",
     "output_type": "stream",
     "text": [
      "     [,1] [,2] [,3]\n",
      "[1,]    1    2    3\n",
      "[2,]    4    5    6\n",
      "[3,]    7    8    9\n",
      "     [,1] [,2] [,3]\n",
      "[1,]    2    4    6\n",
      "[2,]    8   10   12\n",
      "[3,]   14   16   18\n",
      "     [,1] [,2] [,3]\n",
      "[1,]    2    4    6\n",
      "[2,]    8   10   12\n",
      "[3,]   14   16   18\n"
     ]
    }
   ],
   "source": [
    "mymat <- matrix(1:9,byrow=TRUE,nrow=3)\n",
    "print(mymat)\n",
    "print(mymat + mymat)\n",
    "print(mymat * 2)"
   ]
  },
  {
   "cell_type": "markdown",
   "metadata": {
    "slideshow": {
     "slide_type": "subslide"
    }
   },
   "source": [
    "#### - Factors\n",
    "- The factor is one of the classes.\n",
    "- The factor stores characters.\n",
    "    - For example, a vector `c(\"Male\", \"Female\", \"Male\")` contains two factor levels `\"Male\"` and `\"Female\"`. `factor()` encodes the vector as a factor.\n",
    "- You can define the order of factor levels."
   ]
  },
  {
   "cell_type": "code",
   "execution_count": 49,
   "metadata": {
    "slideshow": {
     "slide_type": "subslide"
    }
   },
   "outputs": [
    {
     "name": "stdout",
     "output_type": "stream",
     "text": [
      "[1] High   Low    Medium Low   \n",
      "Levels: Low < Medium < High\n",
      "[1] \"ordered\" \"factor\" \n",
      "[1] FALSE\n",
      "   Low Medium   High \n",
      "     2      1      1 \n",
      "[1] Elephant Giraffe  Donkey   Horse   \n",
      "Levels: Donkey Elephant Giraffe Horse\n",
      "[1] \"factor\"\n",
      "  Donkey Elephant  Giraffe    Horse \n",
      "       1        1        1        1 \n"
     ]
    }
   ],
   "source": [
    "# ordinal categorical variable\n",
    "temp <- c(\"High\",\"Low\",\"Medium\",\"Low\")\n",
    "factor_temp <- factor(temp,levels=c(\"Low\",\"Medium\",\"High\"),ordered=TRUE) # put levels from \"Low\", \"Medium\", to \"High\", where \"Low\" is the smallest\n",
    "print(factor_temp)\n",
    "print(class(factor_temp))\n",
    "print(factor_temp[1] < factor_temp[2]) # check if \"Low\" is larger than \"High\"\n",
    "print(summary(factor_temp)) # count the number of each element\n",
    "\n",
    "# nominal categorical variable\n",
    "animals <- c(\"Elephant\",\"Giraffe\",\"Donkey\",\"Horse\")\n",
    "factor_animals <- factor(animals)\n",
    "print(factor_animals)\n",
    "print(class(factor_animals))\n",
    "# print(factor_animals[1] < factor_animals[2]) # this returns an error.\n",
    "print(summary(factor_animals))"
   ]
  },
  {
   "cell_type": "markdown",
   "metadata": {
    "slideshow": {
     "slide_type": "subslide"
    }
   },
   "source": [
    "- It is possible to use any other labels for factor levels."
   ]
  },
  {
   "cell_type": "code",
   "execution_count": 51,
   "metadata": {},
   "outputs": [
    {
     "name": "stdout",
     "output_type": "stream",
     "text": [
      "[1] Male   Female Female Male   Male  \n",
      "Levels: Female Male\n"
     ]
    }
   ],
   "source": [
    "gender <- c(\"M\",\"F\",\"F\",\"M\",\"M\")\n",
    "factor_gender <- factor(gender) \n",
    "levels(factor_gender) <- c(\"Female\",\"Male\") # factors levels are stored as \"M\" for \"Male\" and \"F\" for \"Female\". Since R assigns characters alphabetically, the order must be Female, Male, not Male, Female\n",
    "print(factor_gender)"
   ]
  },
  {
   "cell_type": "markdown",
   "metadata": {
    "slideshow": {
     "slide_type": "subslide"
    }
   },
   "source": [
    "#### - Data frames\n",
    "- The data frame is one of the classes.\n",
    "- Recall that vectors and matrices can store only one class. Data frames allow you to store multiple classes."
   ]
  },
  {
   "cell_type": "code",
   "execution_count": 52,
   "metadata": {
    "slideshow": {
     "slide_type": "-"
    }
   },
   "outputs": [
    {
     "name": "stdout",
     "output_type": "stream",
     "text": [
      "[1] \"data.frame\"\n",
      "                     mpg cyl  disp  hp drat    wt  qsec vs am gear carb\n",
      "Mazda RX4           21.0   6 160.0 110 3.90 2.620 16.46  0  1    4    4\n",
      "Mazda RX4 Wag       21.0   6 160.0 110 3.90 2.875 17.02  0  1    4    4\n",
      "Datsun 710          22.8   4 108.0  93 3.85 2.320 18.61  1  1    4    1\n",
      "Hornet 4 Drive      21.4   6 258.0 110 3.08 3.215 19.44  1  0    3    1\n",
      "Hornet Sportabout   18.7   8 360.0 175 3.15 3.440 17.02  0  0    3    2\n",
      "Valiant             18.1   6 225.0 105 2.76 3.460 20.22  1  0    3    1\n",
      "Duster 360          14.3   8 360.0 245 3.21 3.570 15.84  0  0    3    4\n",
      "Merc 240D           24.4   4 146.7  62 3.69 3.190 20.00  1  0    4    2\n",
      "Merc 230            22.8   4 140.8  95 3.92 3.150 22.90  1  0    4    2\n",
      "Merc 280            19.2   6 167.6 123 3.92 3.440 18.30  1  0    4    4\n",
      "Merc 280C           17.8   6 167.6 123 3.92 3.440 18.90  1  0    4    4\n",
      "Merc 450SE          16.4   8 275.8 180 3.07 4.070 17.40  0  0    3    3\n",
      "Merc 450SL          17.3   8 275.8 180 3.07 3.730 17.60  0  0    3    3\n",
      "Merc 450SLC         15.2   8 275.8 180 3.07 3.780 18.00  0  0    3    3\n",
      "Cadillac Fleetwood  10.4   8 472.0 205 2.93 5.250 17.98  0  0    3    4\n",
      "Lincoln Continental 10.4   8 460.0 215 3.00 5.424 17.82  0  0    3    4\n",
      "Chrysler Imperial   14.7   8 440.0 230 3.23 5.345 17.42  0  0    3    4\n",
      "Fiat 128            32.4   4  78.7  66 4.08 2.200 19.47  1  1    4    1\n",
      "Honda Civic         30.4   4  75.7  52 4.93 1.615 18.52  1  1    4    2\n",
      "Toyota Corolla      33.9   4  71.1  65 4.22 1.835 19.90  1  1    4    1\n",
      "Toyota Corona       21.5   4 120.1  97 3.70 2.465 20.01  1  0    3    1\n",
      "Dodge Challenger    15.5   8 318.0 150 2.76 3.520 16.87  0  0    3    2\n",
      "AMC Javelin         15.2   8 304.0 150 3.15 3.435 17.30  0  0    3    2\n",
      "Camaro Z28          13.3   8 350.0 245 3.73 3.840 15.41  0  0    3    4\n",
      "Pontiac Firebird    19.2   8 400.0 175 3.08 3.845 17.05  0  0    3    2\n",
      "Fiat X1-9           27.3   4  79.0  66 4.08 1.935 18.90  1  1    4    1\n",
      "Porsche 914-2       26.0   4 120.3  91 4.43 2.140 16.70  0  1    5    2\n",
      "Lotus Europa        30.4   4  95.1 113 3.77 1.513 16.90  1  1    5    2\n",
      "Ford Pantera L      15.8   8 351.0 264 4.22 3.170 14.50  0  1    5    4\n",
      "Ferrari Dino        19.7   6 145.0 175 3.62 2.770 15.50  0  1    5    6\n",
      "Maserati Bora       15.0   8 301.0 335 3.54 3.570 14.60  0  1    5    8\n",
      "Volvo 142E          21.4   4 121.0 109 4.11 2.780 18.60  1  1    4    2\n"
     ]
    }
   ],
   "source": [
    "print(class(mtcars)) # mtcars is built-in data\n",
    "print(mtcars)"
   ]
  },
  {
   "cell_type": "markdown",
   "metadata": {
    "slideshow": {
     "slide_type": "subslide"
    }
   },
   "source": [
    "- To get the structure of a data frame, use `str()`.\n",
    "- To get dimensions of a data frame, use `dim()`. (The command is similar to `.shape` in Python.)\n",
    "- You can use `lengths()` for the number of elements in each column.\n",
    "    - `length()` (without s) is for a specific column."
   ]
  },
  {
   "cell_type": "code",
   "execution_count": 53,
   "metadata": {
    "slideshow": {
     "slide_type": "-"
    }
   },
   "outputs": [
    {
     "name": "stdout",
     "output_type": "stream",
     "text": [
      "'data.frame':\t32 obs. of  11 variables:\n",
      " $ mpg : num  21 21 22.8 21.4 18.7 18.1 14.3 24.4 22.8 19.2 ...\n",
      " $ cyl : num  6 6 4 6 8 6 8 4 4 6 ...\n",
      " $ disp: num  160 160 108 258 360 ...\n",
      " $ hp  : num  110 110 93 110 175 105 245 62 95 123 ...\n",
      " $ drat: num  3.9 3.9 3.85 3.08 3.15 2.76 3.21 3.69 3.92 3.92 ...\n",
      " $ wt  : num  2.62 2.88 2.32 3.21 3.44 ...\n",
      " $ qsec: num  16.5 17 18.6 19.4 17 ...\n",
      " $ vs  : num  0 0 1 1 0 1 0 1 1 1 ...\n",
      " $ am  : num  1 1 1 0 0 0 0 0 0 0 ...\n",
      " $ gear: num  4 4 4 3 3 3 3 4 4 4 ...\n",
      " $ carb: num  4 4 1 1 2 1 4 2 2 4 ...\n",
      "NULL\n",
      "[1] 32 11\n",
      " mpg  cyl disp   hp drat   wt qsec   vs   am gear carb \n",
      "  32   32   32   32   32   32   32   32   32   32   32 \n",
      "[1] 32\n"
     ]
    }
   ],
   "source": [
    "print(str(mtcars))\n",
    "print(dim(mtcars))\n",
    "print(lengths(mtcars))\n",
    "print(length(mtcars$mpg))"
   ]
  },
  {
   "cell_type": "markdown",
   "metadata": {
    "slideshow": {
     "slide_type": "subslide"
    }
   },
   "source": [
    "- Use `summary()` to get a summary table."
   ]
  },
  {
   "cell_type": "code",
   "execution_count": 54,
   "metadata": {
    "slideshow": {
     "slide_type": "-"
    }
   },
   "outputs": [
    {
     "name": "stdout",
     "output_type": "stream",
     "text": [
      "      mpg             cyl             disp             hp       \n",
      " Min.   :10.40   Min.   :4.000   Min.   : 71.1   Min.   : 52.0  \n",
      " 1st Qu.:15.43   1st Qu.:4.000   1st Qu.:120.8   1st Qu.: 96.5  \n",
      " Median :19.20   Median :6.000   Median :196.3   Median :123.0  \n",
      " Mean   :20.09   Mean   :6.188   Mean   :230.7   Mean   :146.7  \n",
      " 3rd Qu.:22.80   3rd Qu.:8.000   3rd Qu.:326.0   3rd Qu.:180.0  \n",
      " Max.   :33.90   Max.   :8.000   Max.   :472.0   Max.   :335.0  \n",
      "      drat             wt             qsec             vs        \n",
      " Min.   :2.760   Min.   :1.513   Min.   :14.50   Min.   :0.0000  \n",
      " 1st Qu.:3.080   1st Qu.:2.581   1st Qu.:16.89   1st Qu.:0.0000  \n",
      " Median :3.695   Median :3.325   Median :17.71   Median :0.0000  \n",
      " Mean   :3.597   Mean   :3.217   Mean   :17.85   Mean   :0.4375  \n",
      " 3rd Qu.:3.920   3rd Qu.:3.610   3rd Qu.:18.90   3rd Qu.:1.0000  \n",
      " Max.   :4.930   Max.   :5.424   Max.   :22.90   Max.   :1.0000  \n",
      "       am              gear            carb      \n",
      " Min.   :0.0000   Min.   :3.000   Min.   :1.000  \n",
      " 1st Qu.:0.0000   1st Qu.:3.000   1st Qu.:2.000  \n",
      " Median :0.0000   Median :4.000   Median :2.000  \n",
      " Mean   :0.4062   Mean   :3.688   Mean   :2.812  \n",
      " 3rd Qu.:1.0000   3rd Qu.:4.000   3rd Qu.:4.000  \n",
      " Max.   :1.0000   Max.   :5.000   Max.   :8.000  \n"
     ]
    }
   ],
   "source": [
    "print(summary(mtcars))"
   ]
  },
  {
   "cell_type": "markdown",
   "metadata": {
    "slideshow": {
     "slide_type": "subslide"
    }
   },
   "source": [
    "- To get the total number of columns and rows, use `ncol()` and `nrow()`, respectively."
   ]
  },
  {
   "cell_type": "code",
   "execution_count": 55,
   "metadata": {
    "slideshow": {
     "slide_type": "-"
    }
   },
   "outputs": [
    {
     "name": "stdout",
     "output_type": "stream",
     "text": [
      "[1] 11\n",
      "[1] 32\n"
     ]
    }
   ],
   "source": [
    "print(ncol(mtcars))\n",
    "print(nrow(mtcars))"
   ]
  },
  {
   "cell_type": "markdown",
   "metadata": {
    "slideshow": {
     "slide_type": "subslide"
    }
   },
   "source": [
    "- To get column names and row names, use `colnames()` and `rownames()`, respectively."
   ]
  },
  {
   "cell_type": "code",
   "execution_count": 56,
   "metadata": {
    "slideshow": {
     "slide_type": "-"
    }
   },
   "outputs": [
    {
     "name": "stdout",
     "output_type": "stream",
     "text": [
      " [1] \"mpg\"  \"cyl\"  \"disp\" \"hp\"   \"drat\" \"wt\"   \"qsec\" \"vs\"   \"am\"   \"gear\"\n",
      "[11] \"carb\"\n",
      " [1] \"Mazda RX4\"           \"Mazda RX4 Wag\"       \"Datsun 710\"         \n",
      " [4] \"Hornet 4 Drive\"      \"Hornet Sportabout\"   \"Valiant\"            \n",
      " [7] \"Duster 360\"          \"Merc 240D\"           \"Merc 230\"           \n",
      "[10] \"Merc 280\"            \"Merc 280C\"           \"Merc 450SE\"         \n",
      "[13] \"Merc 450SL\"          \"Merc 450SLC\"         \"Cadillac Fleetwood\" \n",
      "[16] \"Lincoln Continental\" \"Chrysler Imperial\"   \"Fiat 128\"           \n",
      "[19] \"Honda Civic\"         \"Toyota Corolla\"      \"Toyota Corona\"      \n",
      "[22] \"Dodge Challenger\"    \"AMC Javelin\"         \"Camaro Z28\"         \n",
      "[25] \"Pontiac Firebird\"    \"Fiat X1-9\"           \"Porsche 914-2\"      \n",
      "[28] \"Lotus Europa\"        \"Ford Pantera L\"      \"Ferrari Dino\"       \n",
      "[31] \"Maserati Bora\"       \"Volvo 142E\"         \n"
     ]
    }
   ],
   "source": [
    "print(colnames(mtcars))\n",
    "print(rownames(mtcars))"
   ]
  },
  {
   "cell_type": "markdown",
   "metadata": {
    "slideshow": {
     "slide_type": "subslide"
    }
   },
   "source": [
    "- To check if a value is duplicated, use `duplicated()`.\n",
    "- To check if a value is unique, use `!duplicated()`."
   ]
  },
  {
   "cell_type": "code",
   "execution_count": 57,
   "metadata": {
    "slideshow": {
     "slide_type": "-"
    }
   },
   "outputs": [
    {
     "name": "stdout",
     "output_type": "stream",
     "text": [
      " [1] FALSE FALSE FALSE FALSE FALSE FALSE FALSE FALSE FALSE FALSE FALSE\n",
      " [1] TRUE TRUE TRUE TRUE TRUE TRUE TRUE TRUE TRUE TRUE TRUE\n",
      "[1] 0\n"
     ]
    }
   ],
   "source": [
    "print(duplicated(colnames(mtcars)))\n",
    "print(!duplicated(colnames(mtcars)))\n",
    "print(sum(duplicated(rownames(mtcars)))) # the total number of unique index"
   ]
  },
  {
   "cell_type": "markdown",
   "metadata": {
    "slideshow": {
     "slide_type": "subslide"
    }
   },
   "source": [
    "- To get unique values, use `unique()`."
   ]
  },
  {
   "cell_type": "code",
   "execution_count": 58,
   "metadata": {
    "slideshow": {
     "slide_type": "-"
    }
   },
   "outputs": [
    {
     "data": {
      "text/html": [
       "<ol class=list-inline>\n",
       "\t<li>'Mazda RX4'</li>\n",
       "\t<li>'Mazda RX4 Wag'</li>\n",
       "\t<li>'Datsun 710'</li>\n",
       "\t<li>'Hornet 4 Drive'</li>\n",
       "\t<li>'Hornet Sportabout'</li>\n",
       "\t<li>'Valiant'</li>\n",
       "\t<li>'Duster 360'</li>\n",
       "\t<li>'Merc 240D'</li>\n",
       "\t<li>'Merc 230'</li>\n",
       "\t<li>'Merc 280'</li>\n",
       "\t<li>'Merc 280C'</li>\n",
       "\t<li>'Merc 450SE'</li>\n",
       "\t<li>'Merc 450SL'</li>\n",
       "\t<li>'Merc 450SLC'</li>\n",
       "\t<li>'Cadillac Fleetwood'</li>\n",
       "\t<li>'Lincoln Continental'</li>\n",
       "\t<li>'Chrysler Imperial'</li>\n",
       "\t<li>'Fiat 128'</li>\n",
       "\t<li>'Honda Civic'</li>\n",
       "\t<li>'Toyota Corolla'</li>\n",
       "\t<li>'Toyota Corona'</li>\n",
       "\t<li>'Dodge Challenger'</li>\n",
       "\t<li>'AMC Javelin'</li>\n",
       "\t<li>'Camaro Z28'</li>\n",
       "\t<li>'Pontiac Firebird'</li>\n",
       "\t<li>'Fiat X1-9'</li>\n",
       "\t<li>'Porsche 914-2'</li>\n",
       "\t<li>'Lotus Europa'</li>\n",
       "\t<li>'Ford Pantera L'</li>\n",
       "\t<li>'Ferrari Dino'</li>\n",
       "\t<li>'Maserati Bora'</li>\n",
       "\t<li>'Volvo 142E'</li>\n",
       "</ol>\n"
      ],
      "text/latex": [
       "\\begin{enumerate*}\n",
       "\\item 'Mazda RX4'\n",
       "\\item 'Mazda RX4 Wag'\n",
       "\\item 'Datsun 710'\n",
       "\\item 'Hornet 4 Drive'\n",
       "\\item 'Hornet Sportabout'\n",
       "\\item 'Valiant'\n",
       "\\item 'Duster 360'\n",
       "\\item 'Merc 240D'\n",
       "\\item 'Merc 230'\n",
       "\\item 'Merc 280'\n",
       "\\item 'Merc 280C'\n",
       "\\item 'Merc 450SE'\n",
       "\\item 'Merc 450SL'\n",
       "\\item 'Merc 450SLC'\n",
       "\\item 'Cadillac Fleetwood'\n",
       "\\item 'Lincoln Continental'\n",
       "\\item 'Chrysler Imperial'\n",
       "\\item 'Fiat 128'\n",
       "\\item 'Honda Civic'\n",
       "\\item 'Toyota Corolla'\n",
       "\\item 'Toyota Corona'\n",
       "\\item 'Dodge Challenger'\n",
       "\\item 'AMC Javelin'\n",
       "\\item 'Camaro Z28'\n",
       "\\item 'Pontiac Firebird'\n",
       "\\item 'Fiat X1-9'\n",
       "\\item 'Porsche 914-2'\n",
       "\\item 'Lotus Europa'\n",
       "\\item 'Ford Pantera L'\n",
       "\\item 'Ferrari Dino'\n",
       "\\item 'Maserati Bora'\n",
       "\\item 'Volvo 142E'\n",
       "\\end{enumerate*}\n"
      ],
      "text/markdown": [
       "1. 'Mazda RX4'\n",
       "2. 'Mazda RX4 Wag'\n",
       "3. 'Datsun 710'\n",
       "4. 'Hornet 4 Drive'\n",
       "5. 'Hornet Sportabout'\n",
       "6. 'Valiant'\n",
       "7. 'Duster 360'\n",
       "8. 'Merc 240D'\n",
       "9. 'Merc 230'\n",
       "10. 'Merc 280'\n",
       "11. 'Merc 280C'\n",
       "12. 'Merc 450SE'\n",
       "13. 'Merc 450SL'\n",
       "14. 'Merc 450SLC'\n",
       "15. 'Cadillac Fleetwood'\n",
       "16. 'Lincoln Continental'\n",
       "17. 'Chrysler Imperial'\n",
       "18. 'Fiat 128'\n",
       "19. 'Honda Civic'\n",
       "20. 'Toyota Corolla'\n",
       "21. 'Toyota Corona'\n",
       "22. 'Dodge Challenger'\n",
       "23. 'AMC Javelin'\n",
       "24. 'Camaro Z28'\n",
       "25. 'Pontiac Firebird'\n",
       "26. 'Fiat X1-9'\n",
       "27. 'Porsche 914-2'\n",
       "28. 'Lotus Europa'\n",
       "29. 'Ford Pantera L'\n",
       "30. 'Ferrari Dino'\n",
       "31. 'Maserati Bora'\n",
       "32. 'Volvo 142E'\n",
       "\n",
       "\n"
      ],
      "text/plain": [
       " [1] \"Mazda RX4\"           \"Mazda RX4 Wag\"       \"Datsun 710\"         \n",
       " [4] \"Hornet 4 Drive\"      \"Hornet Sportabout\"   \"Valiant\"            \n",
       " [7] \"Duster 360\"          \"Merc 240D\"           \"Merc 230\"           \n",
       "[10] \"Merc 280\"            \"Merc 280C\"           \"Merc 450SE\"         \n",
       "[13] \"Merc 450SL\"          \"Merc 450SLC\"         \"Cadillac Fleetwood\" \n",
       "[16] \"Lincoln Continental\" \"Chrysler Imperial\"   \"Fiat 128\"           \n",
       "[19] \"Honda Civic\"         \"Toyota Corolla\"      \"Toyota Corona\"      \n",
       "[22] \"Dodge Challenger\"    \"AMC Javelin\"         \"Camaro Z28\"         \n",
       "[25] \"Pontiac Firebird\"    \"Fiat X1-9\"           \"Porsche 914-2\"      \n",
       "[28] \"Lotus Europa\"        \"Ford Pantera L\"      \"Ferrari Dino\"       \n",
       "[31] \"Maserati Bora\"       \"Volvo 142E\"         "
      ]
     },
     "metadata": {},
     "output_type": "display_data"
    }
   ],
   "source": [
    "unique(rownames(mtcars))"
   ]
  },
  {
   "cell_type": "markdown",
   "metadata": {
    "slideshow": {
     "slide_type": "subslide"
    }
   },
   "source": [
    "##### Get elements\n",
    "- To access each element, you can use `[]`.\n",
    "- To slice data, use `[:]`. \n",
    "    - To get columns, you can write either `[:]` or `[,:]`.\n",
    "    - To get rows, use `[:,]`\n",
    "- You can directly write like `df$column_name`."
   ]
  },
  {
   "cell_type": "code",
   "execution_count": 59,
   "metadata": {
    "slideshow": {
     "slide_type": "-"
    }
   },
   "outputs": [
    {
     "name": "stdout",
     "output_type": "stream",
     "text": [
      "                     mpg cyl\n",
      "Mazda RX4           21.0   6\n",
      "Mazda RX4 Wag       21.0   6\n",
      "Datsun 710          22.8   4\n",
      "Hornet 4 Drive      21.4   6\n",
      "Hornet Sportabout   18.7   8\n",
      "Valiant             18.1   6\n",
      "Duster 360          14.3   8\n",
      "Merc 240D           24.4   4\n",
      "Merc 230            22.8   4\n",
      "Merc 280            19.2   6\n",
      "Merc 280C           17.8   6\n",
      "Merc 450SE          16.4   8\n",
      "Merc 450SL          17.3   8\n",
      "Merc 450SLC         15.2   8\n",
      "Cadillac Fleetwood  10.4   8\n",
      "Lincoln Continental 10.4   8\n",
      "Chrysler Imperial   14.7   8\n",
      "Fiat 128            32.4   4\n",
      "Honda Civic         30.4   4\n",
      "Toyota Corolla      33.9   4\n",
      "Toyota Corona       21.5   4\n",
      "Dodge Challenger    15.5   8\n",
      "AMC Javelin         15.2   8\n",
      "Camaro Z28          13.3   8\n",
      "Pontiac Firebird    19.2   8\n",
      "Fiat X1-9           27.3   4\n",
      "Porsche 914-2       26.0   4\n",
      "Lotus Europa        30.4   4\n",
      "Ford Pantera L      15.8   8\n",
      "Ferrari Dino        19.7   6\n",
      "Maserati Bora       15.0   8\n",
      "Volvo 142E          21.4   4\n",
      "                     mpg cyl\n",
      "Mazda RX4           21.0   6\n",
      "Mazda RX4 Wag       21.0   6\n",
      "Datsun 710          22.8   4\n",
      "Hornet 4 Drive      21.4   6\n",
      "Hornet Sportabout   18.7   8\n",
      "Valiant             18.1   6\n",
      "Duster 360          14.3   8\n",
      "Merc 240D           24.4   4\n",
      "Merc 230            22.8   4\n",
      "Merc 280            19.2   6\n",
      "Merc 280C           17.8   6\n",
      "Merc 450SE          16.4   8\n",
      "Merc 450SL          17.3   8\n",
      "Merc 450SLC         15.2   8\n",
      "Cadillac Fleetwood  10.4   8\n",
      "Lincoln Continental 10.4   8\n",
      "Chrysler Imperial   14.7   8\n",
      "Fiat 128            32.4   4\n",
      "Honda Civic         30.4   4\n",
      "Toyota Corolla      33.9   4\n",
      "Toyota Corona       21.5   4\n",
      "Dodge Challenger    15.5   8\n",
      "AMC Javelin         15.2   8\n",
      "Camaro Z28          13.3   8\n",
      "Pontiac Firebird    19.2   8\n",
      "Fiat X1-9           27.3   4\n",
      "Porsche 914-2       26.0   4\n",
      "Lotus Europa        30.4   4\n",
      "Ford Pantera L      15.8   8\n",
      "Ferrari Dino        19.7   6\n",
      "Maserati Bora       15.0   8\n",
      "Volvo 142E          21.4   4\n",
      " [1] 21.0 21.0 22.8 21.4 18.7 18.1 14.3 24.4 22.8 19.2 17.8 16.4 17.3 15.2 10.4\n",
      "[16] 10.4 14.7 32.4 30.4 33.9 21.5 15.5 15.2 13.3 19.2 27.3 26.0 30.4 15.8 19.7\n",
      "[31] 15.0 21.4\n",
      " [1] 21.0 21.0 22.8 21.4 18.7 18.1 14.3 24.4 22.8 19.2 17.8 16.4 17.3 15.2 10.4\n",
      "[16] 10.4 14.7 32.4 30.4 33.9 21.5 15.5 15.2 13.3 19.2 27.3 26.0 30.4 15.8 19.7\n",
      "[31] 15.0 21.4\n",
      "              mpg cyl disp  hp drat    wt  qsec vs am gear carb\n",
      "Mazda RX4      21   6  160 110  3.9 2.620 16.46  0  1    4    4\n",
      "Mazda RX4 Wag  21   6  160 110  3.9 2.875 17.02  0  1    4    4\n"
     ]
    }
   ],
   "source": [
    "# get columns\n",
    "print(mtcars[1:2]) \n",
    "print(mtcars[,1:2]) \n",
    "print(mtcars[,\"mpg\"]) \n",
    "print(mtcars$mpg) \n",
    "# get rows\n",
    "print(mtcars[1:2,]) "
   ]
  },
  {
   "cell_type": "markdown",
   "metadata": {
    "slideshow": {
     "slide_type": "subslide"
    }
   },
   "source": [
    "- You can use operators like `==`, `>`, and `<=` to get parciular rows.\n",
    "    - You can also use `subset()`.\n",
    "- You can also use `filter()` in the `dplyr` package.\n",
    "- If a row contains NA, subsetting elements using operators in `[]` returns NA for all values in the row.\n",
    "    - `select()` and `filter()` even remove that row.\n",
    "    - To keep NA, add an \"or\" condition."
   ]
  },
  {
   "cell_type": "code",
   "execution_count": 61,
   "metadata": {
    "slideshow": {
     "slide_type": "subslide"
    }
   },
   "outputs": [
    {
     "name": "stdout",
     "output_type": "stream",
     "text": [
      "  id time varA  varB\n",
      "1  a    1   NA  TRUE\n",
      "2  a    2  0.2 FALSE\n",
      "3  b    1  0.4 FALSE\n",
      "4  b    2  0.1  TRUE\n",
      "     id time varA  varB\n",
      "NA <NA>   NA   NA    NA\n",
      "3     b    1  0.4 FALSE\n",
      "4     b    2  0.1  TRUE\n",
      "  id time varA  varB\n",
      "3  b    1  0.4 FALSE\n",
      "4  b    2  0.1  TRUE\n",
      "  id time varA  varB\n",
      "1  b    1  0.4 FALSE\n",
      "2  b    2  0.1  TRUE\n"
     ]
    }
   ],
   "source": [
    "col1 <- c(\"a\",\"a\",\"b\",\"b\")\n",
    "col2 <- c(1,2,1,2)\n",
    "col3 <- c(NA,0.2,0.4,0.1)\n",
    "col4 <- c(TRUE,FALSE,FALSE,TRUE)\n",
    "myDf <- data.frame(id=col1,time=col2,varA=col3,varB=col4,stringsAsFactors=FALSE) # add column names at once, do not read strings as factors\n",
    "print(myDf)\n",
    "\n",
    "myDf2 <- myDf[myDf$varA != 0.2,]\n",
    "print(myDf2)\n",
    "print(subset(myDf,varA != 0.2)) # using subset\n",
    "library(dplyr) \n",
    "print(filter(myDf,varA != 0.2)) # using filter in the dplyr package"
   ]
  },
  {
   "cell_type": "code",
   "execution_count": 62,
   "metadata": {
    "slideshow": {
     "slide_type": "subslide"
    }
   },
   "outputs": [
    {
     "name": "stdout",
     "output_type": "stream",
     "text": [
      "  id time varA  varB\n",
      "1  a    1   NA  TRUE\n",
      "2  a    2  0.2 FALSE\n",
      "3  b    1  0.4 FALSE\n",
      "4  b    2  0.1  TRUE\n",
      "  id time varA  varB\n",
      "1  a    1   NA  TRUE\n",
      "3  b    1  0.4 FALSE\n",
      "4  b    2  0.1  TRUE\n",
      "  id time varA  varB\n",
      "1  a    1   NA  TRUE\n",
      "3  b    1  0.4 FALSE\n",
      "4  b    2  0.1  TRUE\n",
      "  id time varA  varB\n",
      "1  a    1   NA  TRUE\n",
      "2  b    1  0.4 FALSE\n",
      "3  b    2  0.1  TRUE\n"
     ]
    }
   ],
   "source": [
    "col1 <- c(\"a\",\"a\",\"b\",\"b\")\n",
    "col2 <- c(1,2,1,2)\n",
    "col3 <- c(NA,0.2,0.4,0.1)\n",
    "col4 <- c(TRUE,FALSE,FALSE,TRUE)\n",
    "myDf <- data.frame(id=col1,time=col2,varA=col3,varB=col4,stringsAsFactors=FALSE)\n",
    "print(myDf)\n",
    "\n",
    "myDf2 <- myDf[(myDf$varA != 0.2) | (is.na(myDf$varA)),]\n",
    "print(myDf2)\n",
    "print(subset(myDf,varA != 0.2 | is.na(varA))) # using subset\n",
    "library(dplyr) \n",
    "print(filter(myDf,varA != 0.2 | is.na(varA))) # using filter"
   ]
  },
  {
   "cell_type": "markdown",
   "metadata": {
    "slideshow": {
     "slide_type": "subslide"
    }
   },
   "source": [
    "- To subset columns, use `[]`, `subset()`, or `select()` in the dplyr package."
   ]
  },
  {
   "cell_type": "code",
   "execution_count": 63,
   "metadata": {
    "slideshow": {
     "slide_type": "-"
    }
   },
   "outputs": [
    {
     "name": "stdout",
     "output_type": "stream",
     "text": [
      "                     disp  hp drat    wt  qsec vs am gear carb\n",
      "Mazda RX4           160.0 110 3.90 2.620 16.46  0  1    4    4\n",
      "Mazda RX4 Wag       160.0 110 3.90 2.875 17.02  0  1    4    4\n",
      "Datsun 710          108.0  93 3.85 2.320 18.61  1  1    4    1\n",
      "Hornet 4 Drive      258.0 110 3.08 3.215 19.44  1  0    3    1\n",
      "Hornet Sportabout   360.0 175 3.15 3.440 17.02  0  0    3    2\n",
      "Valiant             225.0 105 2.76 3.460 20.22  1  0    3    1\n",
      "Duster 360          360.0 245 3.21 3.570 15.84  0  0    3    4\n",
      "Merc 240D           146.7  62 3.69 3.190 20.00  1  0    4    2\n",
      "Merc 230            140.8  95 3.92 3.150 22.90  1  0    4    2\n",
      "Merc 280            167.6 123 3.92 3.440 18.30  1  0    4    4\n",
      "Merc 280C           167.6 123 3.92 3.440 18.90  1  0    4    4\n",
      "Merc 450SE          275.8 180 3.07 4.070 17.40  0  0    3    3\n",
      "Merc 450SL          275.8 180 3.07 3.730 17.60  0  0    3    3\n",
      "Merc 450SLC         275.8 180 3.07 3.780 18.00  0  0    3    3\n",
      "Cadillac Fleetwood  472.0 205 2.93 5.250 17.98  0  0    3    4\n",
      "Lincoln Continental 460.0 215 3.00 5.424 17.82  0  0    3    4\n",
      "Chrysler Imperial   440.0 230 3.23 5.345 17.42  0  0    3    4\n",
      "Fiat 128             78.7  66 4.08 2.200 19.47  1  1    4    1\n",
      "Honda Civic          75.7  52 4.93 1.615 18.52  1  1    4    2\n",
      "Toyota Corolla       71.1  65 4.22 1.835 19.90  1  1    4    1\n",
      "Toyota Corona       120.1  97 3.70 2.465 20.01  1  0    3    1\n",
      "Dodge Challenger    318.0 150 2.76 3.520 16.87  0  0    3    2\n",
      "AMC Javelin         304.0 150 3.15 3.435 17.30  0  0    3    2\n",
      "Camaro Z28          350.0 245 3.73 3.840 15.41  0  0    3    4\n",
      "Pontiac Firebird    400.0 175 3.08 3.845 17.05  0  0    3    2\n",
      "Fiat X1-9            79.0  66 4.08 1.935 18.90  1  1    4    1\n",
      "Porsche 914-2       120.3  91 4.43 2.140 16.70  0  1    5    2\n",
      "Lotus Europa         95.1 113 3.77 1.513 16.90  1  1    5    2\n",
      "Ford Pantera L      351.0 264 4.22 3.170 14.50  0  1    5    4\n",
      "Ferrari Dino        145.0 175 3.62 2.770 15.50  0  1    5    6\n",
      "Maserati Bora       301.0 335 3.54 3.570 14.60  0  1    5    8\n",
      "Volvo 142E          121.0 109 4.11 2.780 18.60  1  1    4    2\n",
      "                     disp  hp drat    wt  qsec vs am gear carb\n",
      "Mazda RX4           160.0 110 3.90 2.620 16.46  0  1    4    4\n",
      "Mazda RX4 Wag       160.0 110 3.90 2.875 17.02  0  1    4    4\n",
      "Datsun 710          108.0  93 3.85 2.320 18.61  1  1    4    1\n",
      "Hornet 4 Drive      258.0 110 3.08 3.215 19.44  1  0    3    1\n",
      "Hornet Sportabout   360.0 175 3.15 3.440 17.02  0  0    3    2\n",
      "Valiant             225.0 105 2.76 3.460 20.22  1  0    3    1\n",
      "Duster 360          360.0 245 3.21 3.570 15.84  0  0    3    4\n",
      "Merc 240D           146.7  62 3.69 3.190 20.00  1  0    4    2\n",
      "Merc 230            140.8  95 3.92 3.150 22.90  1  0    4    2\n",
      "Merc 280            167.6 123 3.92 3.440 18.30  1  0    4    4\n",
      "Merc 280C           167.6 123 3.92 3.440 18.90  1  0    4    4\n",
      "Merc 450SE          275.8 180 3.07 4.070 17.40  0  0    3    3\n",
      "Merc 450SL          275.8 180 3.07 3.730 17.60  0  0    3    3\n",
      "Merc 450SLC         275.8 180 3.07 3.780 18.00  0  0    3    3\n",
      "Cadillac Fleetwood  472.0 205 2.93 5.250 17.98  0  0    3    4\n",
      "Lincoln Continental 460.0 215 3.00 5.424 17.82  0  0    3    4\n",
      "Chrysler Imperial   440.0 230 3.23 5.345 17.42  0  0    3    4\n",
      "Fiat 128             78.7  66 4.08 2.200 19.47  1  1    4    1\n",
      "Honda Civic          75.7  52 4.93 1.615 18.52  1  1    4    2\n",
      "Toyota Corolla       71.1  65 4.22 1.835 19.90  1  1    4    1\n",
      "Toyota Corona       120.1  97 3.70 2.465 20.01  1  0    3    1\n",
      "Dodge Challenger    318.0 150 2.76 3.520 16.87  0  0    3    2\n",
      "AMC Javelin         304.0 150 3.15 3.435 17.30  0  0    3    2\n",
      "Camaro Z28          350.0 245 3.73 3.840 15.41  0  0    3    4\n",
      "Pontiac Firebird    400.0 175 3.08 3.845 17.05  0  0    3    2\n",
      "Fiat X1-9            79.0  66 4.08 1.935 18.90  1  1    4    1\n",
      "Porsche 914-2       120.3  91 4.43 2.140 16.70  0  1    5    2\n",
      "Lotus Europa         95.1 113 3.77 1.513 16.90  1  1    5    2\n",
      "Ford Pantera L      351.0 264 4.22 3.170 14.50  0  1    5    4\n",
      "Ferrari Dino        145.0 175 3.62 2.770 15.50  0  1    5    6\n",
      "Maserati Bora       301.0 335 3.54 3.570 14.60  0  1    5    8\n",
      "Volvo 142E          121.0 109 4.11 2.780 18.60  1  1    4    2\n"
     ]
    }
   ],
   "source": [
    "# subset columns\n",
    "drops <- c(\"mpg\",\"cyl\")\n",
    "print(mtcars[,!(colnames(mtcars) %in% drops)])\n",
    "print(subset(mtcars,select=-c(mpg, cyl))) # using subset"
   ]
  },
  {
   "cell_type": "markdown",
   "metadata": {
    "slideshow": {
     "slide_type": "subslide"
    }
   },
   "source": [
    "- `select` in the `dplyr` package is very useful."
   ]
  },
  {
   "cell_type": "code",
   "execution_count": 64,
   "metadata": {
    "slideshow": {
     "slide_type": "-"
    }
   },
   "outputs": [
    {
     "name": "stdout",
     "output_type": "stream",
     "text": [
      "                     disp  hp drat    wt  qsec vs am gear carb\n",
      "Mazda RX4           160.0 110 3.90 2.620 16.46  0  1    4    4\n",
      "Mazda RX4 Wag       160.0 110 3.90 2.875 17.02  0  1    4    4\n",
      "Datsun 710          108.0  93 3.85 2.320 18.61  1  1    4    1\n",
      "Hornet 4 Drive      258.0 110 3.08 3.215 19.44  1  0    3    1\n",
      "Hornet Sportabout   360.0 175 3.15 3.440 17.02  0  0    3    2\n",
      "Valiant             225.0 105 2.76 3.460 20.22  1  0    3    1\n",
      "Duster 360          360.0 245 3.21 3.570 15.84  0  0    3    4\n",
      "Merc 240D           146.7  62 3.69 3.190 20.00  1  0    4    2\n",
      "Merc 230            140.8  95 3.92 3.150 22.90  1  0    4    2\n",
      "Merc 280            167.6 123 3.92 3.440 18.30  1  0    4    4\n",
      "Merc 280C           167.6 123 3.92 3.440 18.90  1  0    4    4\n",
      "Merc 450SE          275.8 180 3.07 4.070 17.40  0  0    3    3\n",
      "Merc 450SL          275.8 180 3.07 3.730 17.60  0  0    3    3\n",
      "Merc 450SLC         275.8 180 3.07 3.780 18.00  0  0    3    3\n",
      "Cadillac Fleetwood  472.0 205 2.93 5.250 17.98  0  0    3    4\n",
      "Lincoln Continental 460.0 215 3.00 5.424 17.82  0  0    3    4\n",
      "Chrysler Imperial   440.0 230 3.23 5.345 17.42  0  0    3    4\n",
      "Fiat 128             78.7  66 4.08 2.200 19.47  1  1    4    1\n",
      "Honda Civic          75.7  52 4.93 1.615 18.52  1  1    4    2\n",
      "Toyota Corolla       71.1  65 4.22 1.835 19.90  1  1    4    1\n",
      "Toyota Corona       120.1  97 3.70 2.465 20.01  1  0    3    1\n",
      "Dodge Challenger    318.0 150 2.76 3.520 16.87  0  0    3    2\n",
      "AMC Javelin         304.0 150 3.15 3.435 17.30  0  0    3    2\n",
      "Camaro Z28          350.0 245 3.73 3.840 15.41  0  0    3    4\n",
      "Pontiac Firebird    400.0 175 3.08 3.845 17.05  0  0    3    2\n",
      "Fiat X1-9            79.0  66 4.08 1.935 18.90  1  1    4    1\n",
      "Porsche 914-2       120.3  91 4.43 2.140 16.70  0  1    5    2\n",
      "Lotus Europa         95.1 113 3.77 1.513 16.90  1  1    5    2\n",
      "Ford Pantera L      351.0 264 4.22 3.170 14.50  0  1    5    4\n",
      "Ferrari Dino        145.0 175 3.62 2.770 15.50  0  1    5    6\n",
      "Maserati Bora       301.0 335 3.54 3.570 14.60  0  1    5    8\n",
      "Volvo 142E          121.0 109 4.11 2.780 18.60  1  1    4    2\n",
      "                     mpg\n",
      "Mazda RX4           21.0\n",
      "Mazda RX4 Wag       21.0\n",
      "Datsun 710          22.8\n",
      "Hornet 4 Drive      21.4\n",
      "Hornet Sportabout   18.7\n",
      "Valiant             18.1\n",
      "Duster 360          14.3\n",
      "Merc 240D           24.4\n",
      "Merc 230            22.8\n",
      "Merc 280            19.2\n",
      "Merc 280C           17.8\n",
      "Merc 450SE          16.4\n",
      "Merc 450SL          17.3\n",
      "Merc 450SLC         15.2\n",
      "Cadillac Fleetwood  10.4\n",
      "Lincoln Continental 10.4\n",
      "Chrysler Imperial   14.7\n",
      "Fiat 128            32.4\n",
      "Honda Civic         30.4\n",
      "Toyota Corolla      33.9\n",
      "Toyota Corona       21.5\n",
      "Dodge Challenger    15.5\n",
      "AMC Javelin         15.2\n",
      "Camaro Z28          13.3\n",
      "Pontiac Firebird    19.2\n",
      "Fiat X1-9           27.3\n",
      "Porsche 914-2       26.0\n",
      "Lotus Europa        30.4\n",
      "Ford Pantera L      15.8\n",
      "Ferrari Dino        19.7\n",
      "Maserati Bora       15.0\n",
      "Volvo 142E          21.4\n"
     ]
    }
   ],
   "source": [
    "library(dplyr) \n",
    "print(select(mtcars,disp:carb)) # select columns from disp to carb\n",
    "print(select(mtcars,starts_with(\"m\"))) # columns starting with \"m\"\n",
    "#print(select(mtcars, ends_with(\"p\"))) # columns ending with \"m\"\n",
    "#print(select(mtcars, contains(\"q\"))) # columns containing w or p\n",
    "# another useful option num_range(\"x\", 1:3) # columns x1, x2, and x3."
   ]
  },
  {
   "cell_type": "markdown",
   "metadata": {
    "slideshow": {
     "slide_type": "subslide"
    }
   },
   "source": [
    "- To get first few rows and last few rows easily, use `head()` and `tail()`, respectively."
   ]
  },
  {
   "cell_type": "code",
   "execution_count": 65,
   "metadata": {
    "slideshow": {
     "slide_type": "-"
    }
   },
   "outputs": [
    {
     "name": "stdout",
     "output_type": "stream",
     "text": [
      "                   mpg cyl disp  hp drat    wt  qsec vs am gear carb\n",
      "Mazda RX4         21.0   6  160 110 3.90 2.620 16.46  0  1    4    4\n",
      "Mazda RX4 Wag     21.0   6  160 110 3.90 2.875 17.02  0  1    4    4\n",
      "Datsun 710        22.8   4  108  93 3.85 2.320 18.61  1  1    4    1\n",
      "Hornet 4 Drive    21.4   6  258 110 3.08 3.215 19.44  1  0    3    1\n",
      "Hornet Sportabout 18.7   8  360 175 3.15 3.440 17.02  0  0    3    2\n",
      "                mpg cyl  disp  hp drat    wt qsec vs am gear carb\n",
      "Lotus Europa   30.4   4  95.1 113 3.77 1.513 16.9  1  1    5    2\n",
      "Ford Pantera L 15.8   8 351.0 264 4.22 3.170 14.5  0  1    5    4\n",
      "Ferrari Dino   19.7   6 145.0 175 3.62 2.770 15.5  0  1    5    6\n",
      "Maserati Bora  15.0   8 301.0 335 3.54 3.570 14.6  0  1    5    8\n",
      "Volvo 142E     21.4   4 121.0 109 4.11 2.780 18.6  1  1    4    2\n"
     ]
    }
   ],
   "source": [
    "print(head(mtcars,n=5)) # first 5 rows\n",
    "print(tail(mtcars,n=5)) # last 5 rows"
   ]
  },
  {
   "cell_type": "markdown",
   "metadata": {
    "slideshow": {
     "slide_type": "subslide"
    }
   },
   "source": [
    "- Appendix: To get the indices of matched elements, use `grep()` or `match()`.\n",
    "    - `match()` is used for the exact match like `==`."
   ]
  },
  {
   "cell_type": "code",
   "execution_count": 66,
   "metadata": {},
   "outputs": [
    {
     "name": "stdout",
     "output_type": "stream",
     "text": [
      "   id cars_per_cap       country drives_right\n",
      "1  US          809 United States         TRUE\n",
      "2 AUS          731     Australia        FALSE\n",
      "3 JAP          588         Japan        FALSE\n",
      "4  IN           18         India        FALSE\n",
      "5  RU          200        Russia         TRUE\n",
      "6 MOR           70       Morocco         TRUE\n",
      "7  EG           45         Egypt         TRUE\n"
     ]
    },
    {
     "data": {
      "text/html": [
       "3"
      ],
      "text/latex": [
       "3"
      ],
      "text/markdown": [
       "3"
      ],
      "text/plain": [
       "[1] 3"
      ]
     },
     "metadata": {},
     "output_type": "display_data"
    },
    {
     "data": {
      "text/html": [
       "3"
      ],
      "text/latex": [
       "3"
      ],
      "text/markdown": [
       "3"
      ],
      "text/plain": [
       "[1] 3"
      ]
     },
     "metadata": {},
     "output_type": "display_data"
    },
    {
     "data": {
      "text/html": [
       "3"
      ],
      "text/latex": [
       "3"
      ],
      "text/markdown": [
       "3"
      ],
      "text/plain": [
       "[1] 3"
      ]
     },
     "metadata": {},
     "output_type": "display_data"
    },
    {
     "data": {
      "text/html": [
       "&lt;NA&gt;"
      ],
      "text/latex": [
       "<NA>"
      ],
      "text/markdown": [
       "&lt;NA&gt;"
      ],
      "text/plain": [
       "[1] NA"
      ]
     },
     "metadata": {},
     "output_type": "display_data"
    }
   ],
   "source": [
    "mycars <- read.table('cars.csv',header=TRUE,sep=',',stringsAsFactors=FALSE)\n",
    "print(mycars)\n",
    "grep(\"Japan\",mycars$country)\n",
    "match(\"Japan\",mycars$country)\n",
    "grep(\"Jap\",mycars$country)\n",
    "match(\"Jap\",mycars$country) # this is not exact match"
   ]
  },
  {
   "cell_type": "markdown",
   "metadata": {
    "slideshow": {
     "slide_type": "subslide"
    }
   },
   "source": [
    "##### Change contents\n",
    "- To delete a column, use `<- NULL`.\n",
    "    - Similar to `del` in Python.\n",
    "- Alternatively, you can use `[]` for subsetting data."
   ]
  },
  {
   "cell_type": "code",
   "execution_count": 67,
   "metadata": {
    "slideshow": {
     "slide_type": "-"
    }
   },
   "outputs": [
    {
     "name": "stdout",
     "output_type": "stream",
     "text": [
      "    cars_per_cap       country drives_right\n",
      "US           809 United States         TRUE\n",
      "AUS          731     Australia        FALSE\n",
      "JAP          588         Japan        FALSE\n",
      "IN            18         India        FALSE\n",
      "RU           200        Russia         TRUE\n",
      "MOR           70       Morocco         TRUE\n",
      "EG            45         Egypt         TRUE\n",
      "    cars_per_cap drives_right\n",
      "US           809         TRUE\n",
      "AUS          731        FALSE\n",
      "JAP          588        FALSE\n",
      "IN            18        FALSE\n",
      "RU           200         TRUE\n",
      "MOR           70         TRUE\n",
      "EG            45         TRUE\n"
     ]
    }
   ],
   "source": [
    "mycars <- read.table('cars.csv',header=TRUE,sep=',',row.names='id',stringsAsFactors=FALSE)\n",
    "print(mycars)\n",
    "mycars$country <- NULL\n",
    "print(mycars)"
   ]
  },
  {
   "cell_type": "markdown",
   "metadata": {
    "slideshow": {
     "slide_type": "subslide"
    }
   },
   "source": [
    "- You can sort elements using `order()`.\n",
    "    - Though rarely used, you can also sort data by row values.\n",
    "- Another option is `arrange()` in the `dplyr` package."
   ]
  },
  {
   "cell_type": "code",
   "execution_count": 68,
   "metadata": {
    "slideshow": {
     "slide_type": "-"
    }
   },
   "outputs": [
    {
     "name": "stdout",
     "output_type": "stream",
     "text": [
      "                     mpg cyl  disp  hp drat    wt  qsec vs am gear carb\n",
      "Cadillac Fleetwood  10.4   8 472.0 205 2.93 5.250 17.98  0  0    3    4\n",
      "Lincoln Continental 10.4   8 460.0 215 3.00 5.424 17.82  0  0    3    4\n",
      "Camaro Z28          13.3   8 350.0 245 3.73 3.840 15.41  0  0    3    4\n",
      "Duster 360          14.3   8 360.0 245 3.21 3.570 15.84  0  0    3    4\n",
      "Chrysler Imperial   14.7   8 440.0 230 3.23 5.345 17.42  0  0    3    4\n",
      "Maserati Bora       15.0   8 301.0 335 3.54 3.570 14.60  0  1    5    8\n",
      "Merc 450SLC         15.2   8 275.8 180 3.07 3.780 18.00  0  0    3    3\n",
      "AMC Javelin         15.2   8 304.0 150 3.15 3.435 17.30  0  0    3    2\n",
      "Dodge Challenger    15.5   8 318.0 150 2.76 3.520 16.87  0  0    3    2\n",
      "Ford Pantera L      15.8   8 351.0 264 4.22 3.170 14.50  0  1    5    4\n",
      "Merc 450SE          16.4   8 275.8 180 3.07 4.070 17.40  0  0    3    3\n",
      "Merc 450SL          17.3   8 275.8 180 3.07 3.730 17.60  0  0    3    3\n",
      "Merc 280C           17.8   6 167.6 123 3.92 3.440 18.90  1  0    4    4\n",
      "Valiant             18.1   6 225.0 105 2.76 3.460 20.22  1  0    3    1\n",
      "Hornet Sportabout   18.7   8 360.0 175 3.15 3.440 17.02  0  0    3    2\n",
      "Merc 280            19.2   6 167.6 123 3.92 3.440 18.30  1  0    4    4\n",
      "Pontiac Firebird    19.2   8 400.0 175 3.08 3.845 17.05  0  0    3    2\n",
      "Ferrari Dino        19.7   6 145.0 175 3.62 2.770 15.50  0  1    5    6\n",
      "Mazda RX4           21.0   6 160.0 110 3.90 2.620 16.46  0  1    4    4\n",
      "Mazda RX4 Wag       21.0   6 160.0 110 3.90 2.875 17.02  0  1    4    4\n",
      "Volvo 142E          21.4   4 121.0 109 4.11 2.780 18.60  1  1    4    2\n",
      "Hornet 4 Drive      21.4   6 258.0 110 3.08 3.215 19.44  1  0    3    1\n",
      "Toyota Corona       21.5   4 120.1  97 3.70 2.465 20.01  1  0    3    1\n",
      "Datsun 710          22.8   4 108.0  93 3.85 2.320 18.61  1  1    4    1\n",
      "Merc 230            22.8   4 140.8  95 3.92 3.150 22.90  1  0    4    2\n",
      "Merc 240D           24.4   4 146.7  62 3.69 3.190 20.00  1  0    4    2\n",
      "Porsche 914-2       26.0   4 120.3  91 4.43 2.140 16.70  0  1    5    2\n",
      "Fiat X1-9           27.3   4  79.0  66 4.08 1.935 18.90  1  1    4    1\n",
      "Honda Civic         30.4   4  75.7  52 4.93 1.615 18.52  1  1    4    2\n",
      "Lotus Europa        30.4   4  95.1 113 3.77 1.513 16.90  1  1    5    2\n",
      "Fiat 128            32.4   4  78.7  66 4.08 2.200 19.47  1  1    4    1\n",
      "Toyota Corolla      33.9   4  71.1  65 4.22 1.835 19.90  1  1    4    1\n",
      "                     mpg cyl  disp  hp drat    wt  qsec vs am gear carb\n",
      "Toyota Corolla      33.9   4  71.1  65 4.22 1.835 19.90  1  1    4    1\n",
      "Fiat 128            32.4   4  78.7  66 4.08 2.200 19.47  1  1    4    1\n",
      "Honda Civic         30.4   4  75.7  52 4.93 1.615 18.52  1  1    4    2\n",
      "Lotus Europa        30.4   4  95.1 113 3.77 1.513 16.90  1  1    5    2\n",
      "Fiat X1-9           27.3   4  79.0  66 4.08 1.935 18.90  1  1    4    1\n",
      "Porsche 914-2       26.0   4 120.3  91 4.43 2.140 16.70  0  1    5    2\n",
      "Merc 240D           24.4   4 146.7  62 3.69 3.190 20.00  1  0    4    2\n",
      "Datsun 710          22.8   4 108.0  93 3.85 2.320 18.61  1  1    4    1\n",
      "Merc 230            22.8   4 140.8  95 3.92 3.150 22.90  1  0    4    2\n",
      "Toyota Corona       21.5   4 120.1  97 3.70 2.465 20.01  1  0    3    1\n",
      "Hornet 4 Drive      21.4   6 258.0 110 3.08 3.215 19.44  1  0    3    1\n",
      "Volvo 142E          21.4   4 121.0 109 4.11 2.780 18.60  1  1    4    2\n",
      "Mazda RX4           21.0   6 160.0 110 3.90 2.620 16.46  0  1    4    4\n",
      "Mazda RX4 Wag       21.0   6 160.0 110 3.90 2.875 17.02  0  1    4    4\n",
      "Ferrari Dino        19.7   6 145.0 175 3.62 2.770 15.50  0  1    5    6\n",
      "Pontiac Firebird    19.2   8 400.0 175 3.08 3.845 17.05  0  0    3    2\n",
      "Merc 280            19.2   6 167.6 123 3.92 3.440 18.30  1  0    4    4\n",
      "Hornet Sportabout   18.7   8 360.0 175 3.15 3.440 17.02  0  0    3    2\n",
      "Valiant             18.1   6 225.0 105 2.76 3.460 20.22  1  0    3    1\n",
      "Merc 280C           17.8   6 167.6 123 3.92 3.440 18.90  1  0    4    4\n",
      "Merc 450SL          17.3   8 275.8 180 3.07 3.730 17.60  0  0    3    3\n",
      "Merc 450SE          16.4   8 275.8 180 3.07 4.070 17.40  0  0    3    3\n",
      "Ford Pantera L      15.8   8 351.0 264 4.22 3.170 14.50  0  1    5    4\n",
      "Dodge Challenger    15.5   8 318.0 150 2.76 3.520 16.87  0  0    3    2\n",
      "Merc 450SLC         15.2   8 275.8 180 3.07 3.780 18.00  0  0    3    3\n",
      "AMC Javelin         15.2   8 304.0 150 3.15 3.435 17.30  0  0    3    2\n",
      "Maserati Bora       15.0   8 301.0 335 3.54 3.570 14.60  0  1    5    8\n",
      "Chrysler Imperial   14.7   8 440.0 230 3.23 5.345 17.42  0  0    3    4\n",
      "Duster 360          14.3   8 360.0 245 3.21 3.570 15.84  0  0    3    4\n",
      "Camaro Z28          13.3   8 350.0 245 3.73 3.840 15.41  0  0    3    4\n",
      "Cadillac Fleetwood  10.4   8 472.0 205 2.93 5.250 17.98  0  0    3    4\n",
      "Lincoln Continental 10.4   8 460.0 215 3.00 5.424 17.82  0  0    3    4\n",
      "                    vs am    wt drat gear carb cyl  qsec  mpg  hp  disp\n",
      "Mazda RX4            0  1 2.620 3.90    4    4   6 16.46 21.0 110 160.0\n",
      "Mazda RX4 Wag        0  1 2.875 3.90    4    4   6 17.02 21.0 110 160.0\n",
      "Datsun 710           1  1 2.320 3.85    4    1   4 18.61 22.8  93 108.0\n",
      "Hornet 4 Drive       1  0 3.215 3.08    3    1   6 19.44 21.4 110 258.0\n",
      "Hornet Sportabout    0  0 3.440 3.15    3    2   8 17.02 18.7 175 360.0\n",
      "Valiant              1  0 3.460 2.76    3    1   6 20.22 18.1 105 225.0\n",
      "Duster 360           0  0 3.570 3.21    3    4   8 15.84 14.3 245 360.0\n",
      "Merc 240D            1  0 3.190 3.69    4    2   4 20.00 24.4  62 146.7\n",
      "Merc 230             1  0 3.150 3.92    4    2   4 22.90 22.8  95 140.8\n",
      "Merc 280             1  0 3.440 3.92    4    4   6 18.30 19.2 123 167.6\n",
      "Merc 280C            1  0 3.440 3.92    4    4   6 18.90 17.8 123 167.6\n",
      "Merc 450SE           0  0 4.070 3.07    3    3   8 17.40 16.4 180 275.8\n",
      "Merc 450SL           0  0 3.730 3.07    3    3   8 17.60 17.3 180 275.8\n",
      "Merc 450SLC          0  0 3.780 3.07    3    3   8 18.00 15.2 180 275.8\n",
      "Cadillac Fleetwood   0  0 5.250 2.93    3    4   8 17.98 10.4 205 472.0\n",
      "Lincoln Continental  0  0 5.424 3.00    3    4   8 17.82 10.4 215 460.0\n",
      "Chrysler Imperial    0  0 5.345 3.23    3    4   8 17.42 14.7 230 440.0\n",
      "Fiat 128             1  1 2.200 4.08    4    1   4 19.47 32.4  66  78.7\n",
      "Honda Civic          1  1 1.615 4.93    4    2   4 18.52 30.4  52  75.7\n",
      "Toyota Corolla       1  1 1.835 4.22    4    1   4 19.90 33.9  65  71.1\n",
      "Toyota Corona        1  0 2.465 3.70    3    1   4 20.01 21.5  97 120.1\n",
      "Dodge Challenger     0  0 3.520 2.76    3    2   8 16.87 15.5 150 318.0\n",
      "AMC Javelin          0  0 3.435 3.15    3    2   8 17.30 15.2 150 304.0\n",
      "Camaro Z28           0  0 3.840 3.73    3    4   8 15.41 13.3 245 350.0\n",
      "Pontiac Firebird     0  0 3.845 3.08    3    2   8 17.05 19.2 175 400.0\n",
      "Fiat X1-9            1  1 1.935 4.08    4    1   4 18.90 27.3  66  79.0\n",
      "Porsche 914-2        0  1 2.140 4.43    5    2   4 16.70 26.0  91 120.3\n",
      "Lotus Europa         1  1 1.513 3.77    5    2   4 16.90 30.4 113  95.1\n",
      "Ford Pantera L       0  1 3.170 4.22    5    4   8 14.50 15.8 264 351.0\n",
      "Ferrari Dino         0  1 2.770 3.62    5    6   6 15.50 19.7 175 145.0\n",
      "Maserati Bora        0  1 3.570 3.54    5    8   8 14.60 15.0 335 301.0\n",
      "Volvo 142E           1  1 2.780 4.11    4    2   4 18.60 21.4 109 121.0\n"
     ]
    }
   ],
   "source": [
    "attach(mtcars)\n",
    "print(mtcars[order(mpg,cyl),]) # sort by columns\n",
    "print(mtcars[order(-mpg,-cyl),]) # sort by columns (descending)\n",
    "print(mtcars[,order(mtcars[\"Mazda RX4\",])]) # sort by a row\n",
    "#require(dplyr)\n",
    "#print(arrange(mtcars, cyl, desc(mpg))) # sort by cyl (ascending) and mpg (descending)"
   ]
  },
  {
   "cell_type": "markdown",
   "metadata": {
    "slideshow": {
     "slide_type": "subslide"
    }
   },
   "source": [
    "- To transpose data, use `t()`."
   ]
  },
  {
   "cell_type": "code",
   "execution_count": 69,
   "metadata": {
    "slideshow": {
     "slide_type": "-"
    }
   },
   "outputs": [
    {
     "name": "stdout",
     "output_type": "stream",
     "text": [
      "     Mazda RX4 Mazda RX4 Wag Datsun 710 Hornet 4 Drive Hornet Sportabout\n",
      "mpg      21.00        21.000      22.80         21.400             18.70\n",
      "cyl       6.00         6.000       4.00          6.000              8.00\n",
      "disp    160.00       160.000     108.00        258.000            360.00\n",
      "hp      110.00       110.000      93.00        110.000            175.00\n",
      "drat      3.90         3.900       3.85          3.080              3.15\n",
      "wt        2.62         2.875       2.32          3.215              3.44\n",
      "qsec     16.46        17.020      18.61         19.440             17.02\n",
      "vs        0.00         0.000       1.00          1.000              0.00\n",
      "am        1.00         1.000       1.00          0.000              0.00\n",
      "gear      4.00         4.000       4.00          3.000              3.00\n",
      "carb      4.00         4.000       1.00          1.000              2.00\n",
      "     Valiant Duster 360 Merc 240D Merc 230 Merc 280 Merc 280C Merc 450SE\n",
      "mpg    18.10      14.30     24.40    22.80    19.20     17.80      16.40\n",
      "cyl     6.00       8.00      4.00     4.00     6.00      6.00       8.00\n",
      "disp  225.00     360.00    146.70   140.80   167.60    167.60     275.80\n",
      "hp    105.00     245.00     62.00    95.00   123.00    123.00     180.00\n",
      "drat    2.76       3.21      3.69     3.92     3.92      3.92       3.07\n",
      "wt      3.46       3.57      3.19     3.15     3.44      3.44       4.07\n",
      "qsec   20.22      15.84     20.00    22.90    18.30     18.90      17.40\n",
      "vs      1.00       0.00      1.00     1.00     1.00      1.00       0.00\n",
      "am      0.00       0.00      0.00     0.00     0.00      0.00       0.00\n",
      "gear    3.00       3.00      4.00     4.00     4.00      4.00       3.00\n",
      "carb    1.00       4.00      2.00     2.00     4.00      4.00       3.00\n",
      "     Merc 450SL Merc 450SLC Cadillac Fleetwood Lincoln Continental\n",
      "mpg       17.30       15.20              10.40              10.400\n",
      "cyl        8.00        8.00               8.00               8.000\n",
      "disp     275.80      275.80             472.00             460.000\n",
      "hp       180.00      180.00             205.00             215.000\n",
      "drat       3.07        3.07               2.93               3.000\n",
      "wt         3.73        3.78               5.25               5.424\n",
      "qsec      17.60       18.00              17.98              17.820\n",
      "vs         0.00        0.00               0.00               0.000\n",
      "am         0.00        0.00               0.00               0.000\n",
      "gear       3.00        3.00               3.00               3.000\n",
      "carb       3.00        3.00               4.00               4.000\n",
      "     Chrysler Imperial Fiat 128 Honda Civic Toyota Corolla Toyota Corona\n",
      "mpg             14.700    32.40      30.400         33.900        21.500\n",
      "cyl              8.000     4.00       4.000          4.000         4.000\n",
      "disp           440.000    78.70      75.700         71.100       120.100\n",
      "hp             230.000    66.00      52.000         65.000        97.000\n",
      "drat             3.230     4.08       4.930          4.220         3.700\n",
      "wt               5.345     2.20       1.615          1.835         2.465\n",
      "qsec            17.420    19.47      18.520         19.900        20.010\n",
      "vs               0.000     1.00       1.000          1.000         1.000\n",
      "am               0.000     1.00       1.000          1.000         0.000\n",
      "gear             3.000     4.00       4.000          4.000         3.000\n",
      "carb             4.000     1.00       2.000          1.000         1.000\n",
      "     Dodge Challenger AMC Javelin Camaro Z28 Pontiac Firebird Fiat X1-9\n",
      "mpg             15.50      15.200      13.30           19.200    27.300\n",
      "cyl              8.00       8.000       8.00            8.000     4.000\n",
      "disp           318.00     304.000     350.00          400.000    79.000\n",
      "hp             150.00     150.000     245.00          175.000    66.000\n",
      "drat             2.76       3.150       3.73            3.080     4.080\n",
      "wt               3.52       3.435       3.84            3.845     1.935\n",
      "qsec            16.87      17.300      15.41           17.050    18.900\n",
      "vs               0.00       0.000       0.00            0.000     1.000\n",
      "am               0.00       0.000       0.00            0.000     1.000\n",
      "gear             3.00       3.000       3.00            3.000     4.000\n",
      "carb             2.00       2.000       4.00            2.000     1.000\n",
      "     Porsche 914-2 Lotus Europa Ford Pantera L Ferrari Dino Maserati Bora\n",
      "mpg          26.00       30.400          15.80        19.70         15.00\n",
      "cyl           4.00        4.000           8.00         6.00          8.00\n",
      "disp        120.30       95.100         351.00       145.00        301.00\n",
      "hp           91.00      113.000         264.00       175.00        335.00\n",
      "drat          4.43        3.770           4.22         3.62          3.54\n",
      "wt            2.14        1.513           3.17         2.77          3.57\n",
      "qsec         16.70       16.900          14.50        15.50         14.60\n",
      "vs            0.00        1.000           0.00         0.00          0.00\n",
      "am            1.00        1.000           1.00         1.00          1.00\n",
      "gear          5.00        5.000           5.00         5.00          5.00\n",
      "carb          2.00        2.000           4.00         6.00          8.00\n",
      "     Volvo 142E\n",
      "mpg       21.40\n",
      "cyl        4.00\n",
      "disp     121.00\n",
      "hp       109.00\n",
      "drat       4.11\n",
      "wt         2.78\n",
      "qsec      18.60\n",
      "vs         1.00\n",
      "am         1.00\n",
      "gear       4.00\n",
      "carb       2.00\n"
     ]
    }
   ],
   "source": [
    "print(t(mtcars))"
   ]
  },
  {
   "cell_type": "markdown",
   "metadata": {
    "slideshow": {
     "slide_type": "subslide"
    }
   },
   "source": [
    "- You can use `reshape` to reshape the data."
   ]
  },
  {
   "cell_type": "code",
   "execution_count": 70,
   "metadata": {
    "slideshow": {
     "slide_type": "-"
    }
   },
   "outputs": [
    {
     "name": "stdout",
     "output_type": "stream",
     "text": [
      "  id time varA  varB\n",
      "1  a    1  0.5  TRUE\n",
      "2  a    2  0.2 FALSE\n",
      "3  b    1  0.4 FALSE\n",
      "4  b    2  0.1  TRUE\n",
      "  id varA.1 varB.1 varA.2 varB.2\n",
      "1  a    0.5   TRUE    0.2  FALSE\n",
      "2  b    0.4  FALSE    0.1   TRUE\n",
      "  id time varA.1 varB.1\n",
      "1  a    1    0.5   TRUE\n",
      "2  b    1    0.4  FALSE\n",
      "3  a    2    0.2  FALSE\n",
      "4  b    2    0.1   TRUE\n"
     ]
    }
   ],
   "source": [
    "col1 <- c(\"a\",\"a\",\"b\",\"b\")\n",
    "col2 <- c(1,2,1,2)\n",
    "col3 <- c(0.5,0.2,0.4,0.1)\n",
    "col4 <- c(TRUE,FALSE,FALSE,TRUE)\n",
    "myDf <- data.frame(id=col1,time=col2,varA=col3,varB=col4,stringsAsFactors=FALSE)\n",
    "print(myDf)\n",
    "\n",
    "myDf <- reshape(myDf,idvar=\"id\",timevar=\"time\",direction=\"wide\")\n",
    "rownames(myDf) <- NULL # delete the old rownames\n",
    "print(myDf)\n",
    "myDf <- reshape(myDf,idvar=\"id\",timevar=\"time\",direction=\"long\")\n",
    "rownames(myDf) <- NULL # delete the old rownames\n",
    "print(myDf)"
   ]
  },
  {
   "cell_type": "markdown",
   "metadata": {
    "slideshow": {
     "slide_type": "subslide"
    }
   },
   "source": [
    "- Appendix: Use `melt()` in the `reshape2` package to show data in an alternative form.\n",
    "<!-- `dcast()` \n",
    "myDf_back <- dcast(myDf_melt, id + time ~ variable)\n",
    "print(myDf_back)\n",
    "-->"
   ]
  },
  {
   "cell_type": "code",
   "execution_count": 71,
   "metadata": {
    "slideshow": {
     "slide_type": "-"
    }
   },
   "outputs": [
    {
     "name": "stdout",
     "output_type": "stream",
     "text": [
      "  id time varA  varB\n",
      "1  a    1  0.5  TRUE\n",
      "2  a    2  0.2 FALSE\n",
      "3  b    1  0.4 FALSE\n",
      "4  b    2  0.1  TRUE\n",
      "  id time variable value\n",
      "1  a    1     varA   0.5\n",
      "2  a    2     varA   0.2\n",
      "3  b    1     varA   0.4\n",
      "4  b    2     varA   0.1\n",
      "5  a    1     varB   1.0\n",
      "6  a    2     varB   0.0\n",
      "7  b    1     varB   0.0\n",
      "8  b    2     varB   1.0\n"
     ]
    }
   ],
   "source": [
    "library(reshape2)\n",
    "col1 <- c(\"a\",\"a\",\"b\",\"b\")\n",
    "col2 <- c(1,2,1,2)\n",
    "col3 <- c(0.5,0.2,0.4,0.1)\n",
    "col4 <- c(TRUE,FALSE,FALSE,TRUE)\n",
    "myDf <- data.frame(id=col1,time=col2,varA=col3,varB=col4,stringsAsFactors=FALSE)\n",
    "print(myDf)\n",
    "print(melt(myDf,id.vars=c(\"id\",\"time\")))"
   ]
  },
  {
   "cell_type": "markdown",
   "metadata": {
    "slideshow": {
     "slide_type": "subslide"
    }
   },
   "source": [
    "- To rename column and row names, use `colnames()` and `rownames()`, respectively.\n",
    "    - For column names, you can also use `setnames()` in the `data.table` package.\n",
    "<!--    - For column names, you can also use `rename()` in the `dplyr` package. -->"
   ]
  },
  {
   "cell_type": "code",
   "execution_count": 72,
   "metadata": {},
   "outputs": [
    {
     "name": "stdout",
     "output_type": "stream",
     "text": [
      "  id time varA  varB\n",
      "1  a    1  0.5  TRUE\n",
      "2  a    2  0.2 FALSE\n",
      "3  b    1  0.4 FALSE\n",
      "4  b    2  0.1  TRUE\n",
      "  id time varC  varB\n",
      "1  a    1  0.5  TRUE\n",
      "2  a    2  0.2 FALSE\n",
      "3  b    1  0.4 FALSE\n",
      "4  b    2  0.1  TRUE\n"
     ]
    }
   ],
   "source": [
    "col1 <- c(\"a\",\"a\",\"b\",\"b\")\n",
    "col2 <- c(1,2,1,2)\n",
    "col3 <- c(0.5,0.2,0.4,0.1)\n",
    "col4 <- c(TRUE,FALSE,FALSE,TRUE)\n",
    "myDf <- data.frame(id=col1,time=col2,varA=col3,varB=col4,stringsAsFactors=FALSE)\n",
    "print(myDf)\n",
    "colnames(myDf)[colnames(myDf)==\"varA\"] <- \"varC\" # replace a column name\n",
    "print(myDf)\n",
    "#library(data.table) #install.packages(\"data.table\", repos='http://cran.us.r-project.org')\n",
    "#print(setnames(myDf,\"varB\",\"varD\"))"
   ]
  },
  {
   "cell_type": "markdown",
   "metadata": {
    "slideshow": {
     "slide_type": "subslide"
    }
   },
   "source": [
    "- To replace values, use `replace()` or `gsub()`.\n",
    "    - `gsub()` returns character. If you want to replace numerics, use `replace()`."
   ]
  },
  {
   "cell_type": "code",
   "execution_count": 73,
   "metadata": {
    "slideshow": {
     "slide_type": "-"
    }
   },
   "outputs": [
    {
     "name": "stdout",
     "output_type": "stream",
     "text": [
      "  id time varA  varB\n",
      "1  a    1  0.5  TRUE\n",
      "2  a    2  0.2 FALSE\n",
      "3  b    1  0.4 FALSE\n",
      "4  b    2  0.1  TRUE\n",
      "  id time varA  varB\n",
      "1  a    1  0.8  TRUE\n",
      "2  a    2  0.2 FALSE\n",
      "3  b    1  0.4 FALSE\n",
      "4  b    2  0.1  TRUE\n",
      "  id time varA  varB\n",
      "1  a    1  0.8  TRUE\n",
      "2  a    2  0.2 FALSE\n",
      "3  b    1  0.4 FALSE\n",
      "4  b    2  0.1  TRUE\n",
      "[1] \"character\"\n"
     ]
    }
   ],
   "source": [
    "col1 <- c(\"a\",\"a\",\"b\",\"b\")\n",
    "col2 <- c(1,2,1,2)\n",
    "col3 <- c(0.5,0.2,0.4,0.1)\n",
    "col4 <- c(TRUE,FALSE,FALSE,TRUE)\n",
    "myDf <- data.frame(id=col1,time=col2,varA=col3,varB=col4,stringsAsFactors=FALSE)\n",
    "print(myDf)\n",
    "myDf$varA <- replace(myDf$varA,myDf$varA==0.5,0.8) # replace varA == 0.5 to 0.8\n",
    "print(myDf)\n",
    "myDf$varA <- gsub(0.5,0.8,myDf$varA) # using gsub\n",
    "print(myDf)\n",
    "print(class(myDf$varA))"
   ]
  },
  {
   "cell_type": "markdown",
   "metadata": {
    "slideshow": {
     "slide_type": "subslide"
    }
   },
   "source": [
    "##### Computation\n",
    "- `colSums()` and `rowSums()` for calculating sums for each column and row, respectively.\n",
    "    - Instead, `sum()` compute sums for a specific column or row or the sum of all elements in a data frame.\n",
    "- `colMeans()` and `rowMeans()` for calculating means for each column and row, respectively.\n",
    "    - Instead, `mean()` compute means for a specific column, but not a row."
   ]
  },
  {
   "cell_type": "code",
   "execution_count": 74,
   "metadata": {
    "slideshow": {
     "slide_type": "subslide"
    }
   },
   "outputs": [
    {
     "name": "stdout",
     "output_type": "stream",
     "text": [
      "  time varA varB\n",
      "1    1  1.5  0.5\n",
      "2    2  0.9  0.2\n",
      "3    1  0.2  0.4\n",
      "4    2  0.3  0.1\n",
      "[1] 2.9\n",
      "varA varB \n",
      " 2.9  1.2 \n",
      "  1   3 \n",
      "3.0 1.6 \n"
     ]
    }
   ],
   "source": [
    "col2 <- c(1,2,1,2)\n",
    "col3 <- c(1.5,0.9,0.2,0.3)\n",
    "col4 <- c(0.5,0.2,0.4,0.1)\n",
    "myDf <- data.frame(time=col2,varA=col3,varB=col4,stringsAsFactors=FALSE)\n",
    "print(myDf)\n",
    "print(sum(myDf$varA))\n",
    "print(colSums(myDf[,c(\"varA\",\"varB\")]))\n",
    "print(rowSums(myDf[c(1,3),]))"
   ]
  },
  {
   "cell_type": "markdown",
   "metadata": {
    "slideshow": {
     "slide_type": "subslide"
    }
   },
   "source": [
    "- NaN and NA are not always ignored in calculation (unlike Python)."
   ]
  },
  {
   "cell_type": "code",
   "execution_count": 75,
   "metadata": {
    "slideshow": {
     "slide_type": "-"
    }
   },
   "outputs": [
    {
     "name": "stdout",
     "output_type": "stream",
     "text": [
      "  X1 X2 X3\n",
      "1  1  2  3\n",
      "2  4  5  6\n",
      "3  7  8  9\n",
      "   X1 X2 X3\n",
      "1 NaN  2  3\n",
      "2   4  5  6\n",
      "3   7  8  9\n",
      "[1] NaN\n",
      "[1] 11\n"
     ]
    }
   ],
   "source": [
    "myDf <- data.frame(matrix(1:9,byrow=TRUE,nrow=3)) \n",
    "print(myDf)\n",
    "myDf$X1 <- replace(myDf$X1,myDf$X1==1,NaN)\n",
    "print(myDf)\n",
    "print(sum(myDf$X1)) # returns NaN\n",
    "print(sum(myDf$X1,na.rm=TRUE)) # ignore NaN"
   ]
  },
  {
   "cell_type": "markdown",
   "metadata": {
    "slideshow": {
     "slide_type": "subslide"
    }
   },
   "source": [
    "##### Treat missing values\n",
    "- To check if data contain NA or NaN, use `is.na()`.\n",
    "    - To check if data contain NaN, use `is.nan()`.\n",
    "- To check if data contain inf or -inf, use `is.infinite()`."
   ]
  },
  {
   "cell_type": "code",
   "execution_count": 76,
   "metadata": {
    "slideshow": {
     "slide_type": "-"
    }
   },
   "outputs": [
    {
     "name": "stdout",
     "output_type": "stream",
     "text": [
      "     x    y\n",
      "1 -Inf   NA\n",
      "2   NA  NaN\n",
      "3    3  NaN\n",
      "4  Inf -Inf\n",
      "         x     y\n",
      "[1,] FALSE  TRUE\n",
      "[2,]  TRUE  TRUE\n",
      "[3,] FALSE  TRUE\n",
      "[4,] FALSE FALSE\n",
      "[1] 4\n",
      "x y \n",
      "1 3 \n",
      "         x     y\n",
      "[1,] FALSE FALSE\n",
      "[2,] FALSE  TRUE\n",
      "[3,] FALSE  TRUE\n",
      "[4,] FALSE FALSE\n",
      "         x     y\n",
      "[1,]  TRUE FALSE\n",
      "[2,] FALSE FALSE\n",
      "[3,] FALSE FALSE\n",
      "[4,]  TRUE  TRUE\n"
     ]
    }
   ],
   "source": [
    "x <- c(-Inf,NA,3,Inf)\n",
    "y <- c(NA,0/0,NaN,log(0))\n",
    "my_data <- data.frame(x,y)\n",
    "print(my_data)\n",
    "print(is.na(my_data))\n",
    "print(sum(is.na(my_data))) # total number of NA or NaN (counting TRUEs)\n",
    "print(apply(is.na(my_data),2,sum)) # total number of NA or NaN by column (change 2 to 1 to count by row)\n",
    "print(is.nan(as.matrix(my_data))) # to use is.nan in the data with multiple rows, one should use as.matrix()\n",
    "# print(is.nan(my_data)) # this returns nothing\n",
    "print(is.infinite(as.matrix(my_data))) # to use is.infinite in the data with multiple rows, one should use as.matrix()"
   ]
  },
  {
   "cell_type": "markdown",
   "metadata": {
    "slideshow": {
     "slide_type": "subslide"
    }
   },
   "source": [
    "- To drop rows with an NA or NaN, use `[]`.\n",
    "- To drop rows with all NA or NaN, use `complete.cases()`."
   ]
  },
  {
   "cell_type": "code",
   "execution_count": 77,
   "metadata": {
    "slideshow": {
     "slide_type": "-"
    }
   },
   "outputs": [
    {
     "name": "stdout",
     "output_type": "stream",
     "text": [
      "     x    y\n",
      "1 -Inf   NA\n",
      "2   NA  NaN\n",
      "3    3  NaN\n",
      "4  Inf -Inf\n",
      "     x    y\n",
      "1 -Inf   NA\n",
      "3    3  NaN\n",
      "4  Inf -Inf\n",
      "    x    y\n",
      "4 Inf -Inf\n"
     ]
    }
   ],
   "source": [
    "x <- c(-Inf,NA,3,Inf)\n",
    "y <- c(NA,0/0,NaN,log(0))\n",
    "my_data <- data.frame(x,y)\n",
    "print(my_data)\n",
    "my_data_nomiss <- my_data[!is.na(my_data$x),] \n",
    "print(my_data_nomiss)\n",
    "my_data_nomiss <- my_data[complete.cases(my_data),]\n",
    "print(my_data_nomiss)"
   ]
  },
  {
   "cell_type": "markdown",
   "metadata": {
    "slideshow": {
     "slide_type": "subslide"
    }
   },
   "source": [
    "- To drop columns with all NA or NaN, use `[]`."
   ]
  },
  {
   "cell_type": "code",
   "execution_count": 78,
   "metadata": {
    "slideshow": {
     "slide_type": "-"
    }
   },
   "outputs": [
    {
     "name": "stdout",
     "output_type": "stream",
     "text": [
      "     x   y z\n",
      "1 -Inf  NA 1\n",
      "2   NA NaN 2\n",
      "3    3 NaN 3\n",
      "4  Inf  NA 4\n",
      "     x z\n",
      "1 -Inf 1\n",
      "2   NA 2\n",
      "3    3 3\n",
      "4  Inf 4\n"
     ]
    }
   ],
   "source": [
    "x <- c(log(0), NA, 3, Inf)\n",
    "y <- c(NA, 0/0, NaN, NA)\n",
    "z <- c(1,2,3,4)\n",
    "my_data <- data.frame(x,y,z)\n",
    "print(my_data)\n",
    "my_data2 <- my_data[,colSums(is.na(my_data)) != nrow(my_data)]\n",
    "print(my_data2)"
   ]
  },
  {
   "cell_type": "markdown",
   "metadata": {
    "slideshow": {
     "slide_type": "subslide"
    }
   },
   "source": [
    "- Replace NA, NaN, inf or -inf with another value."
   ]
  },
  {
   "cell_type": "code",
   "execution_count": 79,
   "metadata": {
    "slideshow": {
     "slide_type": "-"
    }
   },
   "outputs": [
    {
     "name": "stdout",
     "output_type": "stream",
     "text": [
      "     x    y z\n",
      "1 -Inf   NA 1\n",
      "2   NA  NaN 2\n",
      "3    3  NaN 3\n",
      "4  Inf -Inf 4\n",
      "     x    y z\n",
      "1 -Inf   NA 1\n",
      "2    0  NaN 2\n",
      "3    3  NaN 3\n",
      "4  Inf -Inf 4\n",
      "     x    y z\n",
      "1 -Inf    0 1\n",
      "2    0    0 2\n",
      "3    3    0 3\n",
      "4  Inf -Inf 4\n"
     ]
    }
   ],
   "source": [
    "x <- c(-Inf, NA, 3, Inf)\n",
    "y <- c(NA, 0/0, NaN, log(0))\n",
    "z <- c(1,2,3,4)\n",
    "my_data <- data.frame(x,y,z)\n",
    "print(my_data)\n",
    "my_data$x[is.na(my_data$x)] <- 0 # NA or NaN in column x\n",
    "print(my_data)\n",
    "my_data[is.na(my_data)] <- 0 # all NA or NaN\n",
    "print(my_data)"
   ]
  },
  {
   "cell_type": "markdown",
   "metadata": {
    "slideshow": {
     "slide_type": "subslide"
    }
   },
   "source": [
    "##### Merge\n",
    "- To merge datasets, use `merge()`.\n",
    "    - Alternatively, you can use `cbind()` and `rbind()`."
   ]
  },
  {
   "cell_type": "code",
   "execution_count": null,
   "metadata": {
    "slideshow": {
     "slide_type": "-"
    }
   },
   "outputs": [],
   "source": [
    "id <- c(\"a\",\"b\",\"c\")\n",
    "weight <- c(80.0,65.0,55.0)\n",
    "data1 <- data.frame(id,weight)\n",
    " \n",
    "id <- c(\"a\",\"b\",\"c\",\"d\")\n",
    "height <- c(180.0,170.0,150.0,155.0)\n",
    "data2 <- data.frame(id,height)\n",
    "\n",
    "print(merge(data1,data2,by=\"id\")) # exclude unmatched ones\n",
    "print(merge(data1,data2,by=\"id\",all=TRUE)) # include all"
   ]
  },
  {
   "cell_type": "markdown",
   "metadata": {
    "slideshow": {
     "slide_type": "subslide"
    }
   },
   "source": [
    "- You can merge even if the key names are different."
   ]
  },
  {
   "cell_type": "code",
   "execution_count": null,
   "metadata": {
    "slideshow": {
     "slide_type": "-"
    }
   },
   "outputs": [],
   "source": [
    "id <- c(\"a\",\"b\",\"c\")\n",
    "weight <- c(80.0,65.0,55.0)\n",
    "data1 <- data.frame(id,weight)\n",
    " \n",
    "xid <- c(\"a\",\"b\",\"c\",\"d\")\n",
    "height <- c(180.0,170.0,150.0,155.0)\n",
    "data2 <- data.frame(xid,height)\n",
    "\n",
    "print(merge(data1,data2,by.x=\"id\",by.y=\"xid\")) # exclude unmatched ones\n",
    "print(merge(data1,data2,by.x=\"id\",by.y=\"xid\",all=TRUE)) # include all"
   ]
  },
  {
   "cell_type": "markdown",
   "metadata": {
    "slideshow": {
     "slide_type": "subslide"
    }
   },
   "source": [
    "- You can use more than one key."
   ]
  },
  {
   "cell_type": "code",
   "execution_count": null,
   "metadata": {
    "slideshow": {
     "slide_type": "-"
    }
   },
   "outputs": [],
   "source": [
    "id <- c(\"a\",\"a\",\"b\",\"b\")\n",
    "time <- c(1,2,1,2)\n",
    "weight <- c(80.0,79.0,54.0,55.0)\n",
    "data1 <- data.frame(id,time,weight)\n",
    "\n",
    "id <- c(\"a\",\"a\",\"b\",\"b\",\"c\")\n",
    "time <- c(1,2,1,2,1)\n",
    "height <- c(180.0,180.0,170.0,170.0,155.0)\n",
    "data2 <- data.frame(id,time,height)\n",
    "\n",
    "print(merge(data1,data2,by=c(\"id\",\"time\"))) # exclude unmatched ones\n",
    "print(merge(data1,data2,by=c(\"id\",\"time\"),all=TRUE)) # include all"
   ]
  },
  {
   "cell_type": "markdown",
   "metadata": {
    "slideshow": {
     "slide_type": "subslide"
    }
   },
   "source": [
    "- What happens if both datasets have the same column name but the contents are different?"
   ]
  },
  {
   "cell_type": "code",
   "execution_count": null,
   "metadata": {
    "slideshow": {
     "slide_type": "-"
    }
   },
   "outputs": [],
   "source": [
    "id <- c(\"a\",\"b\",\"c\")\n",
    "weight <- c(80.0,65.0,55.0)\n",
    "data1 <- data.frame(id, weight)\n",
    " \n",
    "xid <- c(\"a\",\"b\",\"c\",\"d\")\n",
    "weight <- c(180.0,170.0,150.0,155.0)\n",
    "data2 <- data.frame(xid,weight)\n",
    "\n",
    "print(merge(data1,data2,by.x=\"id\",by.y=\"xid\")) # exclude unmatched ones\n",
    "print(merge(data1,data2,by.x=\"id\",by.y=\"xid\",all=TRUE)) # include all"
   ]
  },
  {
   "cell_type": "markdown",
   "metadata": {
    "slideshow": {
     "slide_type": "subslide"
    }
   },
   "source": [
    "#### - Lists\n",
    "- Lists are one of the classes.\n",
    "- Lists can contain any class.\n",
    "- The structure of lists in R looks quite different from that of lists in Python."
   ]
  },
  {
   "cell_type": "code",
   "execution_count": null,
   "metadata": {
    "slideshow": {
     "slide_type": "-"
    }
   },
   "outputs": [],
   "source": [
    "x <- c(1,2)\n",
    "y <- matrix(1:4,nrow=2,ncol=2)\n",
    "z <- mtcars\n",
    "mylist <- list(x,y,z)\n",
    "names(mylist) <- c(\"vec\",\"mat\",\"df\")\n",
    "print(class(mylist))\n",
    "print(mylist)"
   ]
  },
  {
   "cell_type": "markdown",
   "metadata": {
    "slideshow": {
     "slide_type": "subslide"
    }
   },
   "source": [
    "- To get an element in a list, use `[[]]` or` $ `, and `[]`."
   ]
  },
  {
   "cell_type": "code",
   "execution_count": null,
   "metadata": {
    "slideshow": {
     "slide_type": "-"
    }
   },
   "outputs": [],
   "source": [
    "x <- c(1,2)\n",
    "y <- matrix(1:4,nrow=2,ncol=2)\n",
    "z <- mtcars\n",
    "mylist <- list(vec=x,mat=y,df=z) # assign names\n",
    "print(mylist[[2]]) # this returns mat\n",
    "print(mylist[[\"mat\"]]) # this returns mat\n",
    "print(mylist$mat) # this returns mat\n",
    "\n",
    "print(mylist$mat[,1]) # this returns the first column in mat"
   ]
  },
  {
   "cell_type": "markdown",
   "metadata": {
    "slideshow": {
     "slide_type": "subslide"
    }
   },
   "source": [
    "- To get the structure of a list, use `str()`.\n",
    "- To get the length of each element in a list, use `lengths()`.\n",
    "    - To get the length of the list, use `length()`."
   ]
  },
  {
   "cell_type": "code",
   "execution_count": null,
   "metadata": {},
   "outputs": [],
   "source": [
    "x <- c(1,2)\n",
    "y <- matrix(1:4,nrow=2,ncol=2)\n",
    "z <- mtcars\n",
    "mylist <- list(vec=x,mat=y,df=z)\n",
    "print(str(mylist))\n",
    "print(lengths(mylist))\n",
    "print(length(mylist))"
   ]
  },
  {
   "cell_type": "markdown",
   "metadata": {
    "slideshow": {
     "slide_type": "slide"
    }
   },
   "source": [
    "## 4. Functions and Packages\n",
    "- As in Python, there are many functions and packages.\n",
    "- You have already used some of the functions such as `print()`, `paste()`, `summary()`, `sum()`, and `subset()`.\n",
    "    - `builtins()` to get the list of built-in functions.\n",
    "- You can get a help document using `?` or `help()`."
   ]
  },
  {
   "cell_type": "code",
   "execution_count": 60,
   "metadata": {
    "slideshow": {
     "slide_type": "-"
    }
   },
   "outputs": [],
   "source": [
    "?print"
   ]
  },
  {
   "cell_type": "markdown",
   "metadata": {
    "slideshow": {
     "slide_type": "subslide"
    }
   },
   "source": [
    "- Packages contain functions, data, etc.\n",
    "- There are 12,649 packages (as of 2018/06/26) in  [CRAN](https://cran.r-project.org/).\n",
    "- To install a package, use `install.packages()`. You can use `c()` to install multiple packages.\n",
    "- Installed packages can be loaded using `library()`.\n",
    "<!--\n",
    "    - Type `.libPaths()` to check where packages are stored.\n",
    "    - If no path to `Anaconda3/Lib/R/library` is found, type\n",
    "```python\n",
    ".libPaths(\"C:/[path_to_the_folder]/Anaconda3/Lib/R/library\")\n",
    "```\n",
    "to set the path. You have to specify the path to your local directory.\n",
    "    - Then type the following:\n",
    "-->"
   ]
  },
  {
   "cell_type": "code",
   "execution_count": null,
   "metadata": {
    "slideshow": {
     "slide_type": "-"
    }
   },
   "outputs": [],
   "source": [
    "#install.packages(c(\"ggplot2\",\"foreign\"),repos='http://cran.us.r-project.org')\n",
    "library(ggplot2)"
   ]
  },
  {
   "cell_type": "markdown",
   "metadata": {
    "slideshow": {
     "slide_type": "subslide"
    }
   },
   "source": [
    "- To check functions in a package, use `lsf.str()` or `ls()`."
   ]
  },
  {
   "cell_type": "code",
   "execution_count": null,
   "metadata": {
    "slideshow": {
     "slide_type": "-"
    }
   },
   "outputs": [],
   "source": [
    "lsf.str(\"package:ggplot2\")\n",
    "#ls(\"package:ggplot2\")"
   ]
  },
  {
   "cell_type": "markdown",
   "metadata": {
    "slideshow": {
     "slide_type": "subslide"
    }
   },
   "source": [
    "- You can list loaded packages using `(.packages())`.\n",
    "- You can unload packages using `detach()`."
   ]
  },
  {
   "cell_type": "code",
   "execution_count": null,
   "metadata": {
    "slideshow": {
     "slide_type": "-"
    }
   },
   "outputs": [],
   "source": [
    "(.packages())\n",
    "detach(package:ggplot2)\n",
    "(.packages())"
   ]
  },
  {
   "cell_type": "markdown",
   "metadata": {
    "slideshow": {
     "slide_type": "subslide"
    }
   },
   "source": [
    "- The following commands install the `nycflights13` package and load it.\n",
    " <!--   - `dplyr` is a popular package for data scientist, focused on tools for working with data frames. -->\n",
    "    - `nycflights13` includes data on 336,776 flights departed from NYC in 2013."
   ]
  },
  {
   "cell_type": "code",
   "execution_count": 64,
   "metadata": {
    "slideshow": {
     "slide_type": "-"
    }
   },
   "outputs": [],
   "source": [
    "install.packages(\"nycflights13\",repos='http://cran.us.r-project.org')\n",
    "library(nycflights13)"
   ]
  },
  {
   "cell_type": "markdown",
   "metadata": {
    "slideshow": {
     "slide_type": "subslide"
    }
   },
   "source": [
    "- Unlike Python, you can use a function without referring to any package at any time (e.g., no, `np.` as in `np.narray`).\n",
    "- In the following command:\n",
    "    <!-- \n",
    "    - `filter()` included in the dplyr package\n",
    "    - `head()` included in the utils package (= a built-in package)\n",
    "    -->\n",
    "    - `flights` is included in the nycflights13 package."
   ]
  },
  {
   "cell_type": "code",
   "execution_count": null,
   "metadata": {
    "slideshow": {
     "slide_type": "-"
    }
   },
   "outputs": [],
   "source": [
    "print(head(subset(flights, month == 3 & day == 1), 5))"
   ]
  },
  {
   "cell_type": "markdown",
   "metadata": {
    "slideshow": {
     "slide_type": "subslide"
    }
   },
   "source": [
    "- You can make easily your own function. The following example uses `x` and `y` as inputs and returns `x + y`."
   ]
  },
  {
   "cell_type": "code",
   "execution_count": null,
   "metadata": {
    "slideshow": {
     "slide_type": "-"
    }
   },
   "outputs": [],
   "source": [
    "mysum <- function(x,y) {\n",
    "    return(x + y)\n",
    "}\n",
    "print(mysum(2,3))"
   ]
  },
  {
   "cell_type": "markdown",
   "metadata": {
    "slideshow": {
     "slide_type": "slide"
    }
   },
   "source": [
    "## 5. If Statements\n",
    "- R uses `{}` for if statements. Also, the condition has to be included in `()`. "
   ]
  },
  {
   "cell_type": "code",
   "execution_count": null,
   "metadata": {
    "slideshow": {
     "slide_type": "-"
    }
   },
   "outputs": [],
   "source": [
    "inp <- \"Hello\"\n",
    "if (inp == \"Hello\") {\n",
    "    print(\"World!\")\n",
    "}"
   ]
  },
  {
   "cell_type": "markdown",
   "metadata": {
    "slideshow": {
     "slide_type": "subslide"
    }
   },
   "source": [
    "- `else` and `else if` can be used."
   ]
  },
  {
   "cell_type": "code",
   "execution_count": null,
   "metadata": {
    "slideshow": {
     "slide_type": "-"
    }
   },
   "outputs": [],
   "source": [
    "inp <- \"Hello\"\n",
    "if (inp == \"Hell\") {\n",
    "    print(\"No.\")\n",
    "} else if (inp == \"He\") {\n",
    "    print(\"No.\")\n",
    "} else print(\"World!\")"
   ]
  },
  {
   "cell_type": "markdown",
   "metadata": {
    "slideshow": {
     "slide_type": "subslide"
    }
   },
   "source": [
    "- The above example looks ugly. Alternatively, you can define a function."
   ]
  },
  {
   "cell_type": "code",
   "execution_count": null,
   "metadata": {
    "slideshow": {
     "slide_type": "-"
    }
   },
   "outputs": [],
   "source": [
    "myfunc <- function(inp) {\n",
    "    if (inp == \"Hell\") out <- \"No.\"\n",
    "    else if (inp == \"He\") out <- \"No.\"\n",
    "    else out <- \"World!\"\n",
    "    return(out)\n",
    "}\n",
    "print(myfunc(\"Hello\"))"
   ]
  },
  {
   "cell_type": "markdown",
   "metadata": {
    "slideshow": {
     "slide_type": "subslide"
    }
   },
   "source": [
    "- Other relational operators are: `!=`, `>`, `<`, `>=`, and `<=`.\n",
    "- You can also combine them with `&&`, `||` and `%in%`. \n",
    "    - R does not allow `is` and `not` unlike Python."
   ]
  },
  {
   "cell_type": "code",
   "execution_count": null,
   "metadata": {
    "slideshow": {
     "slide_type": "-"
    }
   },
   "outputs": [],
   "source": [
    "year <- 2018\n",
    "if ((year > 2017) && (year < 2019)) print(\"2018!\")\n",
    "if (year != 2017) print('Not 2017!')\n",
    "\n",
    "myvec = c(NA,'b','c')\n",
    "if (NA %in% myvec) print('NA in myvec!')"
   ]
  },
  {
   "cell_type": "markdown",
   "metadata": {
    "slideshow": {
     "slide_type": "slide"
    }
   },
   "source": [
    "## 6. Loops\n",
    "- Use `for` or `while` for loops.\n",
    "- `for` loops use `in`."
   ]
  },
  {
   "cell_type": "code",
   "execution_count": null,
   "metadata": {},
   "outputs": [],
   "source": [
    "for (year in 2010:2019) {\n",
    "  print(paste(\"The year is\", year))\n",
    "}"
   ]
  },
  {
   "cell_type": "markdown",
   "metadata": {
    "slideshow": {
     "slide_type": "subslide"
    }
   },
   "source": [
    "- You can also loop over vectors."
   ]
  },
  {
   "cell_type": "code",
   "execution_count": null,
   "metadata": {
    "slideshow": {
     "slide_type": "-"
    }
   },
   "outputs": [],
   "source": [
    "for (vec in c(2010, TRUE, \"a\")) {\n",
    "  print(vec)\n",
    "}"
   ]
  },
  {
   "cell_type": "markdown",
   "metadata": {
    "slideshow": {
     "slide_type": "subslide"
    }
   },
   "source": [
    "- Loops can be simplified."
   ]
  },
  {
   "cell_type": "code",
   "execution_count": null,
   "metadata": {
    "slideshow": {
     "slide_type": "-"
    }
   },
   "outputs": [],
   "source": [
    "for (year in 2010:2019) print(year)"
   ]
  },
  {
   "cell_type": "markdown",
   "metadata": {
    "slideshow": {
     "slide_type": "subslide"
    }
   },
   "source": [
    "- You can insert elements into a vector, string, matrix, list, etc."
   ]
  },
  {
   "cell_type": "code",
   "execution_count": null,
   "metadata": {
    "slideshow": {
     "slide_type": "subslide"
    }
   },
   "outputs": [],
   "source": [
    "a <- NULL\n",
    "for (i in 1:10) {\n",
    "    a[[i]] <- i\n",
    "}\n",
    "print(a)\n",
    "b <- c()\n",
    "for (i in 1:10) {\n",
    "    b[[i]] <- i\n",
    "}\n",
    "print(b)\n",
    "c <- \"\"\n",
    "for (i in 1:10) {\n",
    "    c[[i]] <- i\n",
    "}\n",
    "print(c)\n",
    "d <- matrix()\n",
    "for (i in 1:10) {\n",
    "    d[[i]] <- i\n",
    "}\n",
    "print(d)\n",
    "e <- list()\n",
    "for (i in 1:10) {\n",
    "    e[[i]] <- i\n",
    "}\n",
    "print(e)"
   ]
  },
  {
   "cell_type": "markdown",
   "metadata": {
    "slideshow": {
     "slide_type": "subslide"
    }
   },
   "source": [
    "`while` loops use counters."
   ]
  },
  {
   "cell_type": "code",
   "execution_count": null,
   "metadata": {
    "slideshow": {
     "slide_type": "-"
    }
   },
   "outputs": [],
   "source": [
    "cnt <- 0\n",
    "while (cnt < 10) {\n",
    "    print(cnt)\n",
    "    cnt <- cnt + 1\n",
    "}"
   ]
  },
  {
   "cell_type": "markdown",
   "metadata": {
    "slideshow": {
     "slide_type": "subslide"
    }
   },
   "source": [
    "- Infinite loops use `repeat`.\n",
    "- Infinite loops often use if statements with `break` and `next`.\n",
    "    - `break` means you will exit the current loop.\n",
    "    - `next` means you will go back to the starting point of the current loop (like `continue` in Python)."
   ]
  },
  {
   "cell_type": "code",
   "execution_count": null,
   "metadata": {
    "slideshow": {
     "slide_type": "subslide"
    }
   },
   "outputs": [],
   "source": [
    "print(\"--- infinite loop till 9 ---\")\n",
    "cnt <- 0\n",
    "repeat {\n",
    "    print(cnt)\n",
    "    cnt <- cnt + 1\n",
    "    if (cnt >= 10) break\n",
    "}\n",
    "\n",
    "\n",
    "print(\"--- infinite loop till 9, except 2 ---\")\n",
    "cnt <- 0\n",
    "repeat {\n",
    "    if (cnt == 2) {\n",
    "        cnt <- cnt + 1\n",
    "        next\n",
    "    }\n",
    "    print(cnt)\n",
    "    cnt <- cnt + 1\n",
    "    \n",
    "    if (cnt >= 10) break\n",
    "}"
   ]
  },
  {
   "cell_type": "markdown",
   "metadata": {
    "slideshow": {
     "slide_type": "subslide"
    }
   },
   "source": [
    "- You can combine functions with loops."
   ]
  },
  {
   "cell_type": "code",
   "execution_count": null,
   "metadata": {
    "slideshow": {
     "slide_type": "-"
    }
   },
   "outputs": [],
   "source": [
    "myfive <- function(x) { # myfive return \"Five!\" if the input is five, and \".\" otherwise.\n",
    "    if (x == 5) y <- \"Five!\"\n",
    "    else y <- \".\"\n",
    "    return(y)\n",
    "}\n",
    "for (x in 1:5) {\n",
    "    print(myfive(x))\n",
    "}"
   ]
  }
 ],
 "metadata": {
  "celltoolbar": "Slideshow",
  "kernelspec": {
   "display_name": "R",
   "language": "R",
   "name": "ir"
  },
  "language_info": {
   "codemirror_mode": "r",
   "file_extension": ".r",
   "mimetype": "text/x-r-source",
   "name": "R",
   "pygments_lexer": "r",
   "version": "3.5.0"
  }
 },
 "nbformat": 4,
 "nbformat_minor": 2
}
